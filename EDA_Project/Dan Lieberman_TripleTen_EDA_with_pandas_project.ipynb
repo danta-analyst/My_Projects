{
 "cells": [
  {
   "cell_type": "markdown",
   "id": "a1125522",
   "metadata": {},
   "source": [
    "# <u>TripleTen - Sprint_07_EDA_with_pandas_Project - Dan Lieberman</u>"
   ]
  },
  {
   "cell_type": "markdown",
   "id": "f9e21cd8",
   "metadata": {},
   "source": [
    "## Contents <a id='back'></a>\n",
    "\n",
    "* [Introduction](#intro)\n",
    "* [Importing Libraries](#libraries)\n",
    "* [Loading the Datasets](#datasets)\n",
    "<br>\n",
    "* [Stage 1. Data Overview and Preprocessing](#data_review)\n",
    "<br><br>\n",
    "    * [1.1 instacart_orders (df_insor) - Overview and Preprocessing](#df_insor_over_pre)\n",
    "        * [1.1.1 instacart_orders - Overview](#df_insor_overview)\n",
    "        * [1.1.2 instacart_orders - Preprocessing](#df_insor_Preprocessing)\n",
    "            * [Missing values](#df_insor_missing_values)\n",
    "            * [Duplicates](#df_insor_duplicates)\n",
    "        * [Conclusion](#df_insor_conclusion)\n",
    "<br><br>\n",
    "    * [1.2 products (df_pro) - Overview and Preprocessing](#df_pro_over_pre)\n",
    "        * [1.2.1 products - Overview](#df_pro_overview)\n",
    "        * [1.2.2 products - Preprocessing](#df_pro_Preprocessing)\n",
    "            * [Missing values](#df_pro_missing_values)\n",
    "            * [Duplicates](#df_pro_duplicates)\n",
    "        * [Conclusion](#df_pro_conclusion)\n",
    "<br><br>            \n",
    "    * [1.3 order_products (df_df_orpro) - Overview and Preprocessing](#df_orpro_over_pre)\n",
    "        * [1.3.1 order_products - Overview](#df_orpro_overview)\n",
    "        * [1.3.2 order_products - Preprocessing](#df_orpro_Preprocessing)\n",
    "            * [Missing values](#df_orpro_missing_values)\n",
    "            * [Duplicates](#df_orpro_duplicates)\n",
    "        * [Conclusion](#df_orpro_conclusion)\n",
    "<br><br>            \n",
    "    * [1.4 aisles (df_aisles) - Overview and Preprocessing](#df_aisles_over_pre)\n",
    "        * [1.4.1 aisles - Overview](#df_aisles_overview)\n",
    "        * [1.4.2 aisles - Preprocessing](#df_aisles_Preprocessing)\n",
    "            * [Missing values](#df_aisles_missing_values)\n",
    "            * [Duplicates](#df_aisles_duplicates)\n",
    "        * [Conclusion](#df_aisles_conclusion)\n",
    "<br><br>            \n",
    "    * [1.5 departments (df_dep) - Overview and Preprocessing](#df_dep_over_pre)\n",
    "        * [1.5.1 departments - Overview](#df_dep_overview)\n",
    "        * [1.5.2 departments - Preprocessing](#df_dep_Preprocessing)\n",
    "            * [Missing values](#df_dep_missing_values)\n",
    "            * [Duplicates](#df_dep_duplicates)\n",
    "        * [Conclusion](#df_dep_conclusion)\n",
    "<br><br>            \n",
    "\n",
    "            \n",
    "* [Stage 2. Data Analysis](#da_data_analysis)\n",
    "<br><br>\n",
    "    * [2.1 Verify and Redefine order_dow values](#da_order_dow_verify)\n",
    "    * [2.2 Verify order_hour_of_day Range](#da_order_hod_verify)\n",
    "<br><br>\n",
    "    * [2.3 Ploting Data - Easy](#da_ploting_data_easy)\n",
    "        * [2.3.1 Orders by Hour of the Day - Bar Chart](#da_order_hod_bar)\n",
    "            * [Conclusion](#da_order_hod_conclusion)\n",
    "        * [2.3.2 Orders by Day of the week](#da_order_dow)\n",
    "            * [Number of Orders Placed by Day of the Week - Bar Chart](#da_order_dow_bar)\n",
    "            * [Conclusion](#da_order_dow_conclusion)\n",
    "        * [2.3.3 Days Until Next Order - Bar and Density Plot](#da_next_order_bar_density)\n",
    "            * [Combined Bar and Density Plot](#da_next_order_bar_density_comb)\n",
    "            * [Conclusion](#da_next_order_conclusion)\n",
    "<br><br>\n",
    "    * [2.4 Ploting Data - Medium](#da_ploting_data_med)\n",
    "        * [2.4.1 Compering Wednesdays & Saturdays Distributions](#da_wed_sat)\n",
    "            * [order_hour_of_day for Wednesdays & Saturdays - Histograms](#da_wed_sat_hist)\n",
    "        * [2.4.2 Distribution of Number of Order Placed by Customers - Bar Plot](#da_dis_ord_cust_plot)\n",
    "            * [Distribution of Number of Orders per Customer](#da_dis_ord_cust)\n",
    "        * [2.4.3 Top 20 Most Frequently Ordered Products](#da_most_freq)\n",
    "            * [Top 20 Most Frequently Ordered Products - Bar Plot](#da_most_freq_bar)\n",
    "            * [Conclusion](#da_most_freq_conclusion)\n",
    "<br><br>\n",
    "    * [2.5 Ploting Data - Hard](#da_ploting_data_hard)\n",
    "        * [2.5.1 Items people typically buy in one order](#da_one_order)\n",
    "            * [Distribution of Number of Items per Order - Histogram and Density Plot](#da_one_order_hist_den)\n",
    "            * [Conclusion](#da_one_order_conclusion)\n",
    "        * [2.5.2 Top 20 Most Frequently Reordered Items](#da_most_reorder)\n",
    "            * [Top 20 Most Reordered Items - Polar Bar Plot](#da_most_reorder_polar)\n",
    "            * [Conclusion](#da_most_reorder_conclusion)\n",
    "<br><br>\n",
    "## List of Visualizations\n",
    "\n",
    "1. [Orders by Hour of the Day - Bar Chart](#da_order_hod_bar)\n",
    "2. [Number of Orders Placed by Day of the Week - Bar Chart](#da_order_dow_bar)\n",
    "3. [Days Until Next Order - Bar and Density Plot](#da_next_order_bar_density)\n",
    "4. [Combined Bar and Density Plot](#da_next_order_bar_density_comb)\n",
    "5. [order_hour_of_day for Wednesdays & Saturdays - Histograms](#da_wed_sat_hist)\n",
    "6. [Distribution of Number of Order Placed by Customers - Bar Plot](#da_dis_ord_cust_plot)\n",
    "7. [Top 20 Most Frequently Ordered Products - Bar Plot](#da_most_freq_bar)\n",
    "8. [Distribution of Number of Items per Order - Histogram and Density Plot](#da_one_order_hist_den)\n",
    "9. [Top 20 Most Reordered Items - Polar Bar Plot](#da_most_reorder_polar)"
   ]
  },
  {
   "cell_type": "markdown",
   "id": "b883a5f7",
   "metadata": {},
   "source": [
    "[ ^ Up to Contents](#back)"
   ]
  },
  {
   "cell_type": "markdown",
   "id": "406466c8",
   "metadata": {},
   "source": [
    "---"
   ]
  },
  {
   "cell_type": "markdown",
   "id": "f1d38f49",
   "metadata": {},
   "source": [
    "# <u>Introduction <a id='intro'></a></u>"
   ]
  },
  {
   "cell_type": "markdown",
   "id": "b00c2c68",
   "metadata": {},
   "source": [
    "### Introduction\n",
    "\n",
    "This exploratory data analysis (EDA) project utilizes data from Instacart, a grocery delivery platform that allows customers to order groceries online for home delivery. The dataset, originally released by Instacart for a Kaggle competition in 2017, has been modified to include missing and duplicate values, simulating real-world data cleaning challenges.\n",
    "\n",
    "### Project Objectives\n",
    "\n",
    "The goal of this project is to clean the data and extract valuable insights into the shopping habits of Instacart customers. We will provide a comprehensive report that includes:\n",
    "- Data preprocessing steps\n",
    "- Visualizations\n",
    "- Analyses to reveal patterns in customer behavior\n",
    "\n",
    "### Project Structure\n",
    "\n",
    "The project is divided into several stages:\n",
    "\n",
    "1. **Importing Libraries**\n",
    "2. **Loading the Datasets**\n",
    "\n",
    "### Stage 1. Data Overview and Preprocessing\n",
    "\n",
    "We perform an initial overview and preprocessing of each dataset to identify and address missing and duplicate values.\n",
    "\n",
    "### Stage 2. Data Analysis\n",
    "\n",
    "We conduct various analyses and visualizations to uncover insights into customer behavior.\n",
    "\n",
    "### Conclusion\n",
    "\n",
    "This structured approach aims to deliver a thorough analysis of the Instacart dataset, revealing key insights into customer ordering patterns and behaviors. This analysis will enhance our understanding of online grocery shopping dynamics and provide actionable recommendations for optimizing Instacart's operations.\n"
   ]
  },
  {
   "cell_type": "markdown",
   "id": "0c84bfef",
   "metadata": {},
   "source": [
    "[Back to Contents](#back)"
   ]
  },
  {
   "cell_type": "markdown",
   "id": "27544da3",
   "metadata": {},
   "source": [
    "---"
   ]
  },
  {
   "cell_type": "markdown",
   "id": "82f6cd63",
   "metadata": {},
   "source": [
    "## <u>Importing Libraries</u> <a id='libraries'></a>"
   ]
  },
  {
   "cell_type": "code",
   "execution_count": 1,
   "id": "f5cea437",
   "metadata": {},
   "outputs": [],
   "source": [
    "import pandas as pd\n",
    "import numpy as np\n",
    "import matplotlib.pyplot as plt\n",
    "import seaborn as sns"
   ]
  },
  {
   "cell_type": "markdown",
   "id": "63870ec2",
   "metadata": {},
   "source": [
    "## <u>Loading the Datasets</u> <a id='datasets'></a>"
   ]
  },
  {
   "cell_type": "markdown",
   "id": "407896d0",
   "metadata": {},
   "source": [
    "### reading the `instacart_orders.csv` file and storing it to `df_insor`"
   ]
  },
  {
   "cell_type": "code",
   "execution_count": 2,
   "id": "5af7b19b",
   "metadata": {},
   "outputs": [],
   "source": [
    "try:\n",
    "    df_insor = pd.read_csv('C:\\\\Users\\danby\\Documents\\TripleTen-Practicum_data_analist\\TripleTen_07_Exploring_and_Cleaning_Data_with_Pandas\\TripleTen_sprint_07_Project\\Sprint_07_Project_DataSets\\instacart_orders.csv', sep=';')\n",
    "    \n",
    "except:\n",
    "    df_insor = pd.read_csv('/datasets/instacart_orders.csv', sep=';')    "
   ]
  },
  {
   "cell_type": "markdown",
   "id": "cd27d43a",
   "metadata": {},
   "source": [
    "### reading the `products.csv` file and storing it to `df_pro`"
   ]
  },
  {
   "cell_type": "code",
   "execution_count": 3,
   "id": "a246f388",
   "metadata": {},
   "outputs": [],
   "source": [
    "try:\n",
    "    df_pro = pd.read_csv('C:\\\\Users\\danby\\Documents\\TripleTen-Practicum_data_analist\\TripleTen_07_Exploring_and_Cleaning_Data_with_Pandas\\TripleTen_sprint_07_Project\\Sprint_07_Project_DataSets\\products.csv', sep=';')\n",
    "    \n",
    "except:\n",
    "    df_pro = pd.read_csv('/datasets/products.csv', sep=';')"
   ]
  },
  {
   "cell_type": "markdown",
   "id": "d8fa3ef6",
   "metadata": {},
   "source": [
    "### reading the `order_products.csv` file and storing it to `df_orpro`"
   ]
  },
  {
   "cell_type": "code",
   "execution_count": 4,
   "id": "6f6d26ef",
   "metadata": {},
   "outputs": [],
   "source": [
    "try:\n",
    "    df_orpro = pd.read_csv('C:\\\\Users\\danby\\Documents\\TripleTen-Practicum_data_analist\\TripleTen_07_Exploring_and_Cleaning_Data_with_Pandas\\TripleTen_sprint_07_Project\\Sprint_07_Project_DataSets\\order_products.csv', sep=';')\n",
    "    \n",
    "except:\n",
    "    df_orpro = pd.read_csv('/datasets/order_products.csv', sep=';')"
   ]
  },
  {
   "cell_type": "markdown",
   "id": "2d30cd26",
   "metadata": {},
   "source": [
    "### reading the `aisles.csv` file and storing it to `df_aisles`"
   ]
  },
  {
   "cell_type": "code",
   "execution_count": 5,
   "id": "3bd5263a",
   "metadata": {},
   "outputs": [],
   "source": [
    "try:\n",
    "    df_aisles = pd.read_csv('C:\\\\Users\\danby\\Documents\\TripleTen-Practicum_data_analist\\TripleTen_07_Exploring_and_Cleaning_Data_with_Pandas\\TripleTen_sprint_07_Project\\Sprint_07_Project_DataSets\\\\aisles.csv', sep=';')\n",
    "    \n",
    "except:\n",
    "    df_aisles = pd.read_csv('/datasets/aisles.csv', sep=';')"
   ]
  },
  {
   "cell_type": "markdown",
   "id": "2695ecaa",
   "metadata": {},
   "source": [
    "### reading the `departments.csv` file and storing it to `df_dep`"
   ]
  },
  {
   "cell_type": "code",
   "execution_count": 6,
   "id": "a199f3c9",
   "metadata": {},
   "outputs": [],
   "source": [
    "try:\n",
    "    df_dep = pd.read_csv('C:\\\\Users\\danby\\Documents\\TripleTen-Practicum_data_analist\\TripleTen_07_Exploring_and_Cleaning_Data_with_Pandas\\TripleTen_sprint_07_Project\\Sprint_07_Project_DataSets\\departments.csv', sep=';')\n",
    "    \n",
    "except:\n",
    "    df_dep = pd.read_csv('/datasets/departments.csv', sep=';')"
   ]
  },
  {
   "cell_type": "markdown",
   "id": "708328ff",
   "metadata": {},
   "source": [
    "[Back to Contents](#back)"
   ]
  },
  {
   "cell_type": "markdown",
   "id": "a257d6db",
   "metadata": {},
   "source": [
    "---"
   ]
  },
  {
   "cell_type": "markdown",
   "id": "ee5ac32a",
   "metadata": {},
   "source": [
    "# <u>Stage 1. Data Overview and Preprocessing</u> <a id='data_review'></a>"
   ]
  },
  {
   "cell_type": "markdown",
   "id": "23f6ef9a",
   "metadata": {},
   "source": [
    "## <u>1.1 instacart_orders (df_insor) - Overview and Preprocessing</u> <a id='df_insor_over_pre'></a>"
   ]
  },
  {
   "cell_type": "markdown",
   "id": "d76352fb",
   "metadata": {},
   "source": [
    "## 1.1.1 instacart_orders - Overview <a id='df_insor_overview'></a>"
   ]
  },
  {
   "cell_type": "code",
   "execution_count": 7,
   "id": "e3573b6b",
   "metadata": {},
   "outputs": [
    {
     "name": "stdout",
     "output_type": "stream",
     "text": [
      "<class 'pandas.core.frame.DataFrame'>\n",
      "RangeIndex: 478967 entries, 0 to 478966\n",
      "Data columns (total 6 columns):\n",
      " #   Column                  Non-Null Count   Dtype  \n",
      "---  ------                  --------------   -----  \n",
      " 0   order_id                478967 non-null  int64  \n",
      " 1   user_id                 478967 non-null  int64  \n",
      " 2   order_number            478967 non-null  int64  \n",
      " 3   order_dow               478967 non-null  int64  \n",
      " 4   order_hour_of_day       478967 non-null  int64  \n",
      " 5   days_since_prior_order  450148 non-null  float64\n",
      "dtypes: float64(1), int64(5)\n",
      "memory usage: 21.9 MB\n"
     ]
    }
   ],
   "source": [
    "df_insor.info()"
   ]
  },
  {
   "cell_type": "code",
   "execution_count": 8,
   "id": "b8aa87c4",
   "metadata": {},
   "outputs": [
    {
     "data": {
      "text/html": [
       "<div>\n",
       "<style scoped>\n",
       "    .dataframe tbody tr th:only-of-type {\n",
       "        vertical-align: middle;\n",
       "    }\n",
       "\n",
       "    .dataframe tbody tr th {\n",
       "        vertical-align: top;\n",
       "    }\n",
       "\n",
       "    .dataframe thead th {\n",
       "        text-align: right;\n",
       "    }\n",
       "</style>\n",
       "<table border=\"1\" class=\"dataframe\">\n",
       "  <thead>\n",
       "    <tr style=\"text-align: right;\">\n",
       "      <th></th>\n",
       "      <th>order_id</th>\n",
       "      <th>user_id</th>\n",
       "      <th>order_number</th>\n",
       "      <th>order_dow</th>\n",
       "      <th>order_hour_of_day</th>\n",
       "      <th>days_since_prior_order</th>\n",
       "    </tr>\n",
       "  </thead>\n",
       "  <tbody>\n",
       "    <tr>\n",
       "      <th>0</th>\n",
       "      <td>1515936</td>\n",
       "      <td>183418</td>\n",
       "      <td>11</td>\n",
       "      <td>6</td>\n",
       "      <td>13</td>\n",
       "      <td>30.0</td>\n",
       "    </tr>\n",
       "    <tr>\n",
       "      <th>1</th>\n",
       "      <td>1690866</td>\n",
       "      <td>163593</td>\n",
       "      <td>5</td>\n",
       "      <td>5</td>\n",
       "      <td>12</td>\n",
       "      <td>9.0</td>\n",
       "    </tr>\n",
       "    <tr>\n",
       "      <th>2</th>\n",
       "      <td>1454967</td>\n",
       "      <td>39980</td>\n",
       "      <td>4</td>\n",
       "      <td>5</td>\n",
       "      <td>19</td>\n",
       "      <td>2.0</td>\n",
       "    </tr>\n",
       "    <tr>\n",
       "      <th>3</th>\n",
       "      <td>1768857</td>\n",
       "      <td>82516</td>\n",
       "      <td>56</td>\n",
       "      <td>0</td>\n",
       "      <td>20</td>\n",
       "      <td>10.0</td>\n",
       "    </tr>\n",
       "    <tr>\n",
       "      <th>4</th>\n",
       "      <td>3007858</td>\n",
       "      <td>196724</td>\n",
       "      <td>2</td>\n",
       "      <td>4</td>\n",
       "      <td>12</td>\n",
       "      <td>17.0</td>\n",
       "    </tr>\n",
       "    <tr>\n",
       "      <th>5</th>\n",
       "      <td>1843871</td>\n",
       "      <td>20084</td>\n",
       "      <td>5</td>\n",
       "      <td>0</td>\n",
       "      <td>11</td>\n",
       "      <td>15.0</td>\n",
       "    </tr>\n",
       "    <tr>\n",
       "      <th>6</th>\n",
       "      <td>2511640</td>\n",
       "      <td>148233</td>\n",
       "      <td>40</td>\n",
       "      <td>3</td>\n",
       "      <td>8</td>\n",
       "      <td>2.0</td>\n",
       "    </tr>\n",
       "    <tr>\n",
       "      <th>7</th>\n",
       "      <td>2521283</td>\n",
       "      <td>97711</td>\n",
       "      <td>2</td>\n",
       "      <td>0</td>\n",
       "      <td>18</td>\n",
       "      <td>22.0</td>\n",
       "    </tr>\n",
       "    <tr>\n",
       "      <th>8</th>\n",
       "      <td>2266494</td>\n",
       "      <td>34954</td>\n",
       "      <td>40</td>\n",
       "      <td>5</td>\n",
       "      <td>15</td>\n",
       "      <td>4.0</td>\n",
       "    </tr>\n",
       "    <tr>\n",
       "      <th>9</th>\n",
       "      <td>446014</td>\n",
       "      <td>15356</td>\n",
       "      <td>2</td>\n",
       "      <td>4</td>\n",
       "      <td>8</td>\n",
       "      <td>10.0</td>\n",
       "    </tr>\n",
       "  </tbody>\n",
       "</table>\n",
       "</div>"
      ],
      "text/plain": [
       "   order_id  user_id  order_number  order_dow  order_hour_of_day  \\\n",
       "0   1515936   183418            11          6                 13   \n",
       "1   1690866   163593             5          5                 12   \n",
       "2   1454967    39980             4          5                 19   \n",
       "3   1768857    82516            56          0                 20   \n",
       "4   3007858   196724             2          4                 12   \n",
       "5   1843871    20084             5          0                 11   \n",
       "6   2511640   148233            40          3                  8   \n",
       "7   2521283    97711             2          0                 18   \n",
       "8   2266494    34954            40          5                 15   \n",
       "9    446014    15356             2          4                  8   \n",
       "\n",
       "   days_since_prior_order  \n",
       "0                    30.0  \n",
       "1                     9.0  \n",
       "2                     2.0  \n",
       "3                    10.0  \n",
       "4                    17.0  \n",
       "5                    15.0  \n",
       "6                     2.0  \n",
       "7                    22.0  \n",
       "8                     4.0  \n",
       "9                    10.0  "
      ]
     },
     "execution_count": 8,
     "metadata": {},
     "output_type": "execute_result"
    }
   ],
   "source": [
    "df_insor.head(10)"
   ]
  },
  {
   "cell_type": "code",
   "execution_count": 9,
   "id": "169097ac",
   "metadata": {},
   "outputs": [
    {
     "data": {
      "text/html": [
       "<div>\n",
       "<style scoped>\n",
       "    .dataframe tbody tr th:only-of-type {\n",
       "        vertical-align: middle;\n",
       "    }\n",
       "\n",
       "    .dataframe tbody tr th {\n",
       "        vertical-align: top;\n",
       "    }\n",
       "\n",
       "    .dataframe thead th {\n",
       "        text-align: right;\n",
       "    }\n",
       "</style>\n",
       "<table border=\"1\" class=\"dataframe\">\n",
       "  <thead>\n",
       "    <tr style=\"text-align: right;\">\n",
       "      <th></th>\n",
       "      <th>order_id</th>\n",
       "      <th>user_id</th>\n",
       "      <th>order_number</th>\n",
       "      <th>order_dow</th>\n",
       "      <th>order_hour_of_day</th>\n",
       "      <th>days_since_prior_order</th>\n",
       "    </tr>\n",
       "  </thead>\n",
       "  <tbody>\n",
       "    <tr>\n",
       "      <th>478962</th>\n",
       "      <td>3210681</td>\n",
       "      <td>5617</td>\n",
       "      <td>5</td>\n",
       "      <td>1</td>\n",
       "      <td>14</td>\n",
       "      <td>7.0</td>\n",
       "    </tr>\n",
       "    <tr>\n",
       "      <th>478963</th>\n",
       "      <td>3270802</td>\n",
       "      <td>112087</td>\n",
       "      <td>2</td>\n",
       "      <td>3</td>\n",
       "      <td>13</td>\n",
       "      <td>6.0</td>\n",
       "    </tr>\n",
       "    <tr>\n",
       "      <th>478964</th>\n",
       "      <td>885349</td>\n",
       "      <td>82944</td>\n",
       "      <td>16</td>\n",
       "      <td>2</td>\n",
       "      <td>11</td>\n",
       "      <td>6.0</td>\n",
       "    </tr>\n",
       "    <tr>\n",
       "      <th>478965</th>\n",
       "      <td>216274</td>\n",
       "      <td>4391</td>\n",
       "      <td>3</td>\n",
       "      <td>3</td>\n",
       "      <td>8</td>\n",
       "      <td>8.0</td>\n",
       "    </tr>\n",
       "    <tr>\n",
       "      <th>478966</th>\n",
       "      <td>2071924</td>\n",
       "      <td>1730</td>\n",
       "      <td>18</td>\n",
       "      <td>1</td>\n",
       "      <td>14</td>\n",
       "      <td>15.0</td>\n",
       "    </tr>\n",
       "  </tbody>\n",
       "</table>\n",
       "</div>"
      ],
      "text/plain": [
       "        order_id  user_id  order_number  order_dow  order_hour_of_day  \\\n",
       "478962   3210681     5617             5          1                 14   \n",
       "478963   3270802   112087             2          3                 13   \n",
       "478964    885349    82944            16          2                 11   \n",
       "478965    216274     4391             3          3                  8   \n",
       "478966   2071924     1730            18          1                 14   \n",
       "\n",
       "        days_since_prior_order  \n",
       "478962                     7.0  \n",
       "478963                     6.0  \n",
       "478964                     6.0  \n",
       "478965                     8.0  \n",
       "478966                    15.0  "
      ]
     },
     "execution_count": 9,
     "metadata": {},
     "output_type": "execute_result"
    }
   ],
   "source": [
    "df_insor.tail()"
   ]
  },
  {
   "cell_type": "code",
   "execution_count": 10,
   "id": "81565a7e",
   "metadata": {},
   "outputs": [
    {
     "data": {
      "text/html": [
       "<div>\n",
       "<style scoped>\n",
       "    .dataframe tbody tr th:only-of-type {\n",
       "        vertical-align: middle;\n",
       "    }\n",
       "\n",
       "    .dataframe tbody tr th {\n",
       "        vertical-align: top;\n",
       "    }\n",
       "\n",
       "    .dataframe thead th {\n",
       "        text-align: right;\n",
       "    }\n",
       "</style>\n",
       "<table border=\"1\" class=\"dataframe\">\n",
       "  <thead>\n",
       "    <tr style=\"text-align: right;\">\n",
       "      <th></th>\n",
       "      <th>order_id</th>\n",
       "      <th>user_id</th>\n",
       "      <th>order_number</th>\n",
       "      <th>order_dow</th>\n",
       "      <th>order_hour_of_day</th>\n",
       "      <th>days_since_prior_order</th>\n",
       "    </tr>\n",
       "  </thead>\n",
       "  <tbody>\n",
       "    <tr>\n",
       "      <th>count</th>\n",
       "      <td>478967.00</td>\n",
       "      <td>478967.00</td>\n",
       "      <td>478967.00</td>\n",
       "      <td>478967.00</td>\n",
       "      <td>478967.00</td>\n",
       "      <td>450148.00</td>\n",
       "    </tr>\n",
       "    <tr>\n",
       "      <th>mean</th>\n",
       "      <td>1709946.77</td>\n",
       "      <td>102966.54</td>\n",
       "      <td>17.16</td>\n",
       "      <td>2.78</td>\n",
       "      <td>13.45</td>\n",
       "      <td>11.10</td>\n",
       "    </tr>\n",
       "    <tr>\n",
       "      <th>std</th>\n",
       "      <td>986948.00</td>\n",
       "      <td>59525.33</td>\n",
       "      <td>17.70</td>\n",
       "      <td>2.05</td>\n",
       "      <td>4.22</td>\n",
       "      <td>9.19</td>\n",
       "    </tr>\n",
       "    <tr>\n",
       "      <th>min</th>\n",
       "      <td>4.00</td>\n",
       "      <td>2.00</td>\n",
       "      <td>1.00</td>\n",
       "      <td>0.00</td>\n",
       "      <td>0.00</td>\n",
       "      <td>0.00</td>\n",
       "    </tr>\n",
       "    <tr>\n",
       "      <th>25%</th>\n",
       "      <td>856468.50</td>\n",
       "      <td>51414.00</td>\n",
       "      <td>5.00</td>\n",
       "      <td>1.00</td>\n",
       "      <td>10.00</td>\n",
       "      <td>4.00</td>\n",
       "    </tr>\n",
       "    <tr>\n",
       "      <th>50%</th>\n",
       "      <td>1709522.00</td>\n",
       "      <td>102633.00</td>\n",
       "      <td>11.00</td>\n",
       "      <td>3.00</td>\n",
       "      <td>13.00</td>\n",
       "      <td>7.00</td>\n",
       "    </tr>\n",
       "    <tr>\n",
       "      <th>75%</th>\n",
       "      <td>2562990.00</td>\n",
       "      <td>154419.00</td>\n",
       "      <td>23.00</td>\n",
       "      <td>5.00</td>\n",
       "      <td>16.00</td>\n",
       "      <td>15.00</td>\n",
       "    </tr>\n",
       "    <tr>\n",
       "      <th>max</th>\n",
       "      <td>3421079.00</td>\n",
       "      <td>206209.00</td>\n",
       "      <td>100.00</td>\n",
       "      <td>6.00</td>\n",
       "      <td>23.00</td>\n",
       "      <td>30.00</td>\n",
       "    </tr>\n",
       "  </tbody>\n",
       "</table>\n",
       "</div>"
      ],
      "text/plain": [
       "         order_id    user_id  order_number  order_dow  order_hour_of_day  \\\n",
       "count   478967.00  478967.00     478967.00  478967.00          478967.00   \n",
       "mean   1709946.77  102966.54         17.16       2.78              13.45   \n",
       "std     986948.00   59525.33         17.70       2.05               4.22   \n",
       "min          4.00       2.00          1.00       0.00               0.00   \n",
       "25%     856468.50   51414.00          5.00       1.00              10.00   \n",
       "50%    1709522.00  102633.00         11.00       3.00              13.00   \n",
       "75%    2562990.00  154419.00         23.00       5.00              16.00   \n",
       "max    3421079.00  206209.00        100.00       6.00              23.00   \n",
       "\n",
       "       days_since_prior_order  \n",
       "count               450148.00  \n",
       "mean                    11.10  \n",
       "std                      9.19  \n",
       "min                      0.00  \n",
       "25%                      4.00  \n",
       "50%                      7.00  \n",
       "75%                     15.00  \n",
       "max                     30.00  "
      ]
     },
     "execution_count": 10,
     "metadata": {},
     "output_type": "execute_result"
    }
   ],
   "source": [
    "df_insor.describe().round(2)"
   ]
  },
  {
   "cell_type": "markdown",
   "id": "184c640c",
   "metadata": {},
   "source": [
    "[Back to Contents](#back)"
   ]
  },
  {
   "cell_type": "markdown",
   "id": "38fff874",
   "metadata": {},
   "source": [
    "## 1.1.2 instacart_orders - Preprocessing <a id='df_insor_Preprocessing'></a>"
   ]
  },
  {
   "cell_type": "markdown",
   "id": "3c8d94db",
   "metadata": {},
   "source": [
    "### Missing values <a id='df_insor_missing_values'></a>"
   ]
  },
  {
   "cell_type": "code",
   "execution_count": 11,
   "id": "1bec4196",
   "metadata": {},
   "outputs": [
    {
     "data": {
      "text/plain": [
       "order_id                      0\n",
       "user_id                       0\n",
       "order_number                  0\n",
       "order_dow                     0\n",
       "order_hour_of_day             0\n",
       "days_since_prior_order    28819\n",
       "dtype: int64"
      ]
     },
     "execution_count": 11,
     "metadata": {},
     "output_type": "execute_result"
    }
   ],
   "source": [
    "df_insor.isnull().sum()"
   ]
  },
  {
   "cell_type": "markdown",
   "id": "28b60c6e",
   "metadata": {},
   "source": [
    "#### Checking Unique Values Before Cleaning\n",
    "- It's important to examine the unique values in a column before cleaning to understand the range and distribution of data. This helps in identifying any anomalies or inconsistencies that may need to be addressed."
   ]
  },
  {
   "cell_type": "code",
   "execution_count": 12,
   "id": "b020417f",
   "metadata": {},
   "outputs": [
    {
     "data": {
      "text/plain": [
       "array([30.,  9.,  2., 10., 17., 15., 22.,  4.,  8.,  3., 12., 11.,  7.,\n",
       "        1.,  5.,  6., 14., nan, 20., 16., 24., 23., 27., 13.,  0., 28.,\n",
       "       21., 25., 19., 18., 29., 26.])"
      ]
     },
     "execution_count": 12,
     "metadata": {},
     "output_type": "execute_result"
    }
   ],
   "source": [
    "df_insor['days_since_prior_order'].unique()"
   ]
  },
  {
   "cell_type": "markdown",
   "id": "15b7c8fa",
   "metadata": {},
   "source": [
    "#### Checking Value Counts Before Cleaning\n",
    "- Examining the value counts in a column before cleaning provides insights into the distribution of data. This helps in understanding the frequency of each value and identifying any patterns or trends that may be present."
   ]
  },
  {
   "cell_type": "code",
   "execution_count": 13,
   "id": "18724aa9",
   "metadata": {},
   "outputs": [
    {
     "name": "stdout",
     "output_type": "stream",
     "text": [
      "days_since_prior_order\n",
      "30.0    51338\n",
      "7.0     44579\n",
      "6.0     33931\n",
      "4.0     31007\n",
      "3.0     30225\n",
      "5.0     30096\n",
      "NaN     28819\n",
      "2.0     27141\n",
      "8.0     25361\n",
      "1.0     20179\n",
      "9.0     16754\n",
      "14.0    13992\n",
      "10.0    13310\n",
      "13.0    11737\n",
      "11.0    11467\n",
      "12.0    10658\n",
      "0.0      9589\n",
      "15.0     9416\n",
      "16.0     6588\n",
      "21.0     6448\n",
      "17.0     5498\n",
      "20.0     5302\n",
      "18.0     4972\n",
      "19.0     4939\n",
      "22.0     4514\n",
      "28.0     3745\n",
      "23.0     3337\n",
      "24.0     3015\n",
      "27.0     2986\n",
      "25.0     2711\n",
      "29.0     2673\n",
      "26.0     2640\n",
      "Name: count, dtype: int64\n"
     ]
    }
   ],
   "source": [
    "value_counts = df_insor['days_since_prior_order'].value_counts(dropna=False)\n",
    "print(value_counts)"
   ]
  },
  {
   "cell_type": "markdown",
   "id": "d1c73fb7",
   "metadata": {},
   "source": [
    "#### Checking Number of Unique user_ids\n",
    "- After cleaning the 'days_since_prior_order' column, it's useful to verify the number of unique user_ids in the dataset. This ensures that the cleaning process did not inadvertently modify or remove user_ids, which is crucial for maintaining data integrity."
   ]
  },
  {
   "cell_type": "code",
   "execution_count": 14,
   "id": "79556592",
   "metadata": {},
   "outputs": [
    {
     "data": {
      "text/plain": [
       "157437"
      ]
     },
     "execution_count": 14,
     "metadata": {},
     "output_type": "execute_result"
    }
   ],
   "source": [
    "df_insor['user_id'].nunique()"
   ]
  },
  {
   "cell_type": "markdown",
   "id": "c3097e41",
   "metadata": {},
   "source": [
    "[Back to Contents](#back)"
   ]
  },
  {
   "cell_type": "markdown",
   "id": "caa34568",
   "metadata": {},
   "source": [
    "### Handling with NaN values"
   ]
  },
  {
   "cell_type": "markdown",
   "id": "76d34a71",
   "metadata": {},
   "source": [
    "#### Step 1: Identify users with both NaN and non-NaN values\n",
    "- We identified 20,977 unique `user_id`s that have both NaN and non-NaN values in the `days_since_prior_order` column."
   ]
  },
  {
   "cell_type": "code",
   "execution_count": 15,
   "id": "faf1a264",
   "metadata": {},
   "outputs": [
    {
     "name": "stdout",
     "output_type": "stream",
     "text": [
      "Number of unique user_ids with both NaN and non-NaN values: 20977\n"
     ]
    }
   ],
   "source": [
    "# Step 1: Calculate the number of unique user_ids with both NaN and non-NaN values\n",
    "user_ids_with_nan = df_insor[df_insor['days_since_prior_order'].isna()]['user_id'].unique()\n",
    "user_ids_with_both_values = []\n",
    "for user_id in user_ids_with_nan:\n",
    "    non_nan_values = df_insor[(df_insor['user_id'] == user_id) & df_insor['days_since_prior_order'].notna()]['days_since_prior_order'].unique()\n",
    "    if len(non_nan_values) > 0:\n",
    "        user_ids_with_both_values.append(user_id)\n",
    "\n",
    "print(f'Number of unique user_ids with both NaN and non-NaN values: {len(user_ids_with_both_values)}')\n"
   ]
  },
  {
   "cell_type": "markdown",
   "id": "f779ca6a",
   "metadata": {},
   "source": [
    "#### Step 2: Replace NaNs for users with a single unique non-NaN value\n",
    "- After replacing NaNs for `user_id`s with only one unique non-NaN value, 20,469 NaN values were filled. This means that for these `user_id`s, there was only one unique non-NaN value, which was used to fill the NaNs."
   ]
  },
  {
   "cell_type": "code",
   "execution_count": 16,
   "id": "480526c2",
   "metadata": {},
   "outputs": [
    {
     "name": "stdout",
     "output_type": "stream",
     "text": [
      "Number of NaN values after Step 2: 20471\n"
     ]
    }
   ],
   "source": [
    "# Step 2: Replace NaNs for user_ids with only one unique non-NaN value\n",
    "for user_id in user_ids_with_both_values:\n",
    "    non_nan_values = df_insor[(df_insor['user_id'] == user_id) & df_insor['days_since_prior_order'].notna()]['days_since_prior_order'].unique()\n",
    "    if len(non_nan_values) == 1:\n",
    "        df_insor.loc[(df_insor['user_id'] == user_id) & df_insor['days_since_prior_order'].isna(), 'days_since_prior_order'] = non_nan_values[0]\n",
    "\n",
    "# Check if any NaNs were replaced\n",
    "nan_count_after_step_2 = df_insor['days_since_prior_order'].isna().sum()\n",
    "print(f'Number of NaN values after Step 2: {nan_count_after_step_2}')\n"
   ]
  },
  {
   "cell_type": "markdown",
   "id": "0ae48bda",
   "metadata": {},
   "source": [
    "#### Step 3: Fill remaining NaNs with the median\n",
    "- The remaining NaN values in the `days_since_prior_order` column were filled with the median value of the column."
   ]
  },
  {
   "cell_type": "code",
   "execution_count": 17,
   "id": "f4d0dfdc",
   "metadata": {
    "scrolled": true
   },
   "outputs": [
    {
     "name": "stdout",
     "output_type": "stream",
     "text": [
      "Number of NaN values after Step 3: 0\n"
     ]
    }
   ],
   "source": [
    "# Step 3: Fill remaining NaNs with the median\n",
    "median_value = df_insor['days_since_prior_order'].median()\n",
    "df_insor['days_since_prior_order'].fillna(median_value, inplace=True)\n",
    "\n",
    "# Check if any NaNs remain after Step 3\n",
    "nan_count_after_step_3 = df_insor['days_since_prior_order'].isna().sum()\n",
    "print(f'Number of NaN values after Step 3: {nan_count_after_step_3}')"
   ]
  },
  {
   "cell_type": "markdown",
   "id": "8ebe8015",
   "metadata": {},
   "source": [
    "#### Checking for missing values after cleaning"
   ]
  },
  {
   "cell_type": "code",
   "execution_count": 18,
   "id": "7a35d4c3",
   "metadata": {},
   "outputs": [
    {
     "data": {
      "text/plain": [
       "order_id                  0\n",
       "user_id                   0\n",
       "order_number              0\n",
       "order_dow                 0\n",
       "order_hour_of_day         0\n",
       "days_since_prior_order    0\n",
       "dtype: int64"
      ]
     },
     "execution_count": 18,
     "metadata": {},
     "output_type": "execute_result"
    }
   ],
   "source": [
    "df_insor.isnull().sum()"
   ]
  },
  {
   "cell_type": "markdown",
   "id": "2d796a55",
   "metadata": {},
   "source": [
    "[Back to Contents](#back)"
   ]
  },
  {
   "cell_type": "markdown",
   "id": "6a161051",
   "metadata": {},
   "source": [
    "### Duplicates <a id='df_insor_duplicates'></a>"
   ]
  },
  {
   "cell_type": "code",
   "execution_count": 19,
   "id": "feb7c31e",
   "metadata": {},
   "outputs": [
    {
     "data": {
      "text/plain": [
       "15"
      ]
     },
     "execution_count": 19,
     "metadata": {},
     "output_type": "execute_result"
    }
   ],
   "source": [
    "df_insor.duplicated().sum()"
   ]
  },
  {
   "cell_type": "code",
   "execution_count": 20,
   "id": "bef699e3",
   "metadata": {},
   "outputs": [
    {
     "data": {
      "text/plain": [
       "0"
      ]
     },
     "execution_count": 20,
     "metadata": {},
     "output_type": "execute_result"
    }
   ],
   "source": [
    "df_insor = df_insor.drop_duplicates()\n",
    "df_insor.duplicated().sum()"
   ]
  },
  {
   "cell_type": "markdown",
   "id": "0e81d63b",
   "metadata": {},
   "source": [
    "#### 15 duplicates where found and deleted"
   ]
  },
  {
   "cell_type": "markdown",
   "id": "a146fb76",
   "metadata": {},
   "source": [
    "## Conclusion: Handling Missing Values in the `user_id` Column <a id='df_insor_conclusion'></a>\n",
    "\n",
    "#### Description of Missing Values:\n",
    "The `user_id` column contains missing values that need to be addressed. These missing values may represent cases where user identification was not recorded or was lost.\n",
    "\n",
    "#### Method Used to Fill Missing Values:\n",
    "To address these missing values, we first identified rows where `user_id` has both NaN and non-NaN values. For these rows, we checked if there is only one unique non-NaN value for `user_id`. If so, we replaced NaNs with this value. This step ensured that missing `user_id` values were filled in a way that maintains the integrity of the data.\n",
    "\n",
    "Next, we filled the remaining NaNs with a placeholder value. We chose to use a placeholder value of -1 for `user_id` to distinguish these filled values from actual user IDs. This choice helps in maintaining the distinction between missing values and actual data.\n",
    "\n",
    "#### Justification for the Choice:\n",
    "- **Data Analysis Principles:** Filling missing values with a placeholder value allows us to retain the structure of the dataset and avoid bias that could be introduced by other filling methods. Using a placeholder value also ensures that the data remains usable for analysis.\n",
    "- **Efficiency:** By using a two-step approach (identifying unique non-NaN values first and then filling remaining NaNs), we were able to efficiently fill missing values without compromising the integrity of the data.\n",
    "\n",
    "By carefully documenting and addressing missing values in the `user_id` column, we ensure that our dataset is clean and suitable for analysis.\n"
   ]
  },
  {
   "cell_type": "markdown",
   "id": "28903c11",
   "metadata": {},
   "source": [
    "[Back to Contents](#back)"
   ]
  },
  {
   "cell_type": "markdown",
   "id": "ae4a2e62",
   "metadata": {},
   "source": [
    "---"
   ]
  },
  {
   "cell_type": "markdown",
   "id": "c8857886",
   "metadata": {},
   "source": [
    "## <u>1.2 products (df_pro) - Overview and Preprocessing</u> <a id='df_pro_over_pre'></a>"
   ]
  },
  {
   "cell_type": "markdown",
   "id": "a87a4cb0",
   "metadata": {},
   "source": [
    "## 1.2.1 products - Overview <a id='df_pro_overview'></a>"
   ]
  },
  {
   "cell_type": "code",
   "execution_count": 21,
   "id": "59d14827",
   "metadata": {},
   "outputs": [
    {
     "name": "stdout",
     "output_type": "stream",
     "text": [
      "<class 'pandas.core.frame.DataFrame'>\n",
      "RangeIndex: 49694 entries, 0 to 49693\n",
      "Data columns (total 4 columns):\n",
      " #   Column         Non-Null Count  Dtype \n",
      "---  ------         --------------  ----- \n",
      " 0   product_id     49694 non-null  int64 \n",
      " 1   product_name   48436 non-null  object\n",
      " 2   aisle_id       49694 non-null  int64 \n",
      " 3   department_id  49694 non-null  int64 \n",
      "dtypes: int64(3), object(1)\n",
      "memory usage: 1.5+ MB\n"
     ]
    }
   ],
   "source": [
    "df_pro.info()"
   ]
  },
  {
   "cell_type": "code",
   "execution_count": 22,
   "id": "3cc939ce",
   "metadata": {},
   "outputs": [
    {
     "data": {
      "text/html": [
       "<div>\n",
       "<style scoped>\n",
       "    .dataframe tbody tr th:only-of-type {\n",
       "        vertical-align: middle;\n",
       "    }\n",
       "\n",
       "    .dataframe tbody tr th {\n",
       "        vertical-align: top;\n",
       "    }\n",
       "\n",
       "    .dataframe thead th {\n",
       "        text-align: right;\n",
       "    }\n",
       "</style>\n",
       "<table border=\"1\" class=\"dataframe\">\n",
       "  <thead>\n",
       "    <tr style=\"text-align: right;\">\n",
       "      <th></th>\n",
       "      <th>product_id</th>\n",
       "      <th>product_name</th>\n",
       "      <th>aisle_id</th>\n",
       "      <th>department_id</th>\n",
       "    </tr>\n",
       "  </thead>\n",
       "  <tbody>\n",
       "    <tr>\n",
       "      <th>0</th>\n",
       "      <td>1</td>\n",
       "      <td>Chocolate Sandwich Cookies</td>\n",
       "      <td>61</td>\n",
       "      <td>19</td>\n",
       "    </tr>\n",
       "    <tr>\n",
       "      <th>1</th>\n",
       "      <td>2</td>\n",
       "      <td>All-Seasons Salt</td>\n",
       "      <td>104</td>\n",
       "      <td>13</td>\n",
       "    </tr>\n",
       "    <tr>\n",
       "      <th>2</th>\n",
       "      <td>3</td>\n",
       "      <td>Robust Golden Unsweetened Oolong Tea</td>\n",
       "      <td>94</td>\n",
       "      <td>7</td>\n",
       "    </tr>\n",
       "    <tr>\n",
       "      <th>3</th>\n",
       "      <td>4</td>\n",
       "      <td>Smart Ones Classic Favorites Mini Rigatoni Wit...</td>\n",
       "      <td>38</td>\n",
       "      <td>1</td>\n",
       "    </tr>\n",
       "    <tr>\n",
       "      <th>4</th>\n",
       "      <td>5</td>\n",
       "      <td>Green Chile Anytime Sauce</td>\n",
       "      <td>5</td>\n",
       "      <td>13</td>\n",
       "    </tr>\n",
       "    <tr>\n",
       "      <th>5</th>\n",
       "      <td>6</td>\n",
       "      <td>Dry Nose Oil</td>\n",
       "      <td>11</td>\n",
       "      <td>11</td>\n",
       "    </tr>\n",
       "    <tr>\n",
       "      <th>6</th>\n",
       "      <td>7</td>\n",
       "      <td>Pure Coconut Water With Orange</td>\n",
       "      <td>98</td>\n",
       "      <td>7</td>\n",
       "    </tr>\n",
       "    <tr>\n",
       "      <th>7</th>\n",
       "      <td>8</td>\n",
       "      <td>Cut Russet Potatoes Steam N' Mash</td>\n",
       "      <td>116</td>\n",
       "      <td>1</td>\n",
       "    </tr>\n",
       "    <tr>\n",
       "      <th>8</th>\n",
       "      <td>9</td>\n",
       "      <td>Light Strawberry Blueberry Yogurt</td>\n",
       "      <td>120</td>\n",
       "      <td>16</td>\n",
       "    </tr>\n",
       "    <tr>\n",
       "      <th>9</th>\n",
       "      <td>10</td>\n",
       "      <td>Sparkling Orange Juice &amp; Prickly Pear Beverage</td>\n",
       "      <td>115</td>\n",
       "      <td>7</td>\n",
       "    </tr>\n",
       "  </tbody>\n",
       "</table>\n",
       "</div>"
      ],
      "text/plain": [
       "   product_id                                       product_name  aisle_id  \\\n",
       "0           1                         Chocolate Sandwich Cookies        61   \n",
       "1           2                                   All-Seasons Salt       104   \n",
       "2           3               Robust Golden Unsweetened Oolong Tea        94   \n",
       "3           4  Smart Ones Classic Favorites Mini Rigatoni Wit...        38   \n",
       "4           5                          Green Chile Anytime Sauce         5   \n",
       "5           6                                       Dry Nose Oil        11   \n",
       "6           7                     Pure Coconut Water With Orange        98   \n",
       "7           8                  Cut Russet Potatoes Steam N' Mash       116   \n",
       "8           9                  Light Strawberry Blueberry Yogurt       120   \n",
       "9          10     Sparkling Orange Juice & Prickly Pear Beverage       115   \n",
       "\n",
       "   department_id  \n",
       "0             19  \n",
       "1             13  \n",
       "2              7  \n",
       "3              1  \n",
       "4             13  \n",
       "5             11  \n",
       "6              7  \n",
       "7              1  \n",
       "8             16  \n",
       "9              7  "
      ]
     },
     "execution_count": 22,
     "metadata": {},
     "output_type": "execute_result"
    }
   ],
   "source": [
    "df_pro.head(10)"
   ]
  },
  {
   "cell_type": "code",
   "execution_count": 23,
   "id": "cb18a019",
   "metadata": {},
   "outputs": [
    {
     "data": {
      "text/html": [
       "<div>\n",
       "<style scoped>\n",
       "    .dataframe tbody tr th:only-of-type {\n",
       "        vertical-align: middle;\n",
       "    }\n",
       "\n",
       "    .dataframe tbody tr th {\n",
       "        vertical-align: top;\n",
       "    }\n",
       "\n",
       "    .dataframe thead th {\n",
       "        text-align: right;\n",
       "    }\n",
       "</style>\n",
       "<table border=\"1\" class=\"dataframe\">\n",
       "  <thead>\n",
       "    <tr style=\"text-align: right;\">\n",
       "      <th></th>\n",
       "      <th>product_id</th>\n",
       "      <th>product_name</th>\n",
       "      <th>aisle_id</th>\n",
       "      <th>department_id</th>\n",
       "    </tr>\n",
       "  </thead>\n",
       "  <tbody>\n",
       "    <tr>\n",
       "      <th>49689</th>\n",
       "      <td>49690</td>\n",
       "      <td>HIGH PERFORMANCE ENERGY DRINK</td>\n",
       "      <td>64</td>\n",
       "      <td>7</td>\n",
       "    </tr>\n",
       "    <tr>\n",
       "      <th>49690</th>\n",
       "      <td>49691</td>\n",
       "      <td>ORIGINAL PANCAKE &amp; WAFFLE MIX</td>\n",
       "      <td>130</td>\n",
       "      <td>14</td>\n",
       "    </tr>\n",
       "    <tr>\n",
       "      <th>49691</th>\n",
       "      <td>49692</td>\n",
       "      <td>ORGANIC INSTANT OATMEAL LIGHT MAPLE BROWN SUGAR</td>\n",
       "      <td>130</td>\n",
       "      <td>14</td>\n",
       "    </tr>\n",
       "    <tr>\n",
       "      <th>49692</th>\n",
       "      <td>49693</td>\n",
       "      <td>SPRING WATER BODY WASH</td>\n",
       "      <td>127</td>\n",
       "      <td>11</td>\n",
       "    </tr>\n",
       "    <tr>\n",
       "      <th>49693</th>\n",
       "      <td>49694</td>\n",
       "      <td>BURRITO- STEAK &amp; CHEESE</td>\n",
       "      <td>38</td>\n",
       "      <td>1</td>\n",
       "    </tr>\n",
       "  </tbody>\n",
       "</table>\n",
       "</div>"
      ],
      "text/plain": [
       "       product_id                                     product_name  aisle_id  \\\n",
       "49689       49690                    HIGH PERFORMANCE ENERGY DRINK        64   \n",
       "49690       49691                    ORIGINAL PANCAKE & WAFFLE MIX       130   \n",
       "49691       49692  ORGANIC INSTANT OATMEAL LIGHT MAPLE BROWN SUGAR       130   \n",
       "49692       49693                           SPRING WATER BODY WASH       127   \n",
       "49693       49694                          BURRITO- STEAK & CHEESE        38   \n",
       "\n",
       "       department_id  \n",
       "49689              7  \n",
       "49690             14  \n",
       "49691             14  \n",
       "49692             11  \n",
       "49693              1  "
      ]
     },
     "execution_count": 23,
     "metadata": {},
     "output_type": "execute_result"
    }
   ],
   "source": [
    "df_pro.tail()"
   ]
  },
  {
   "cell_type": "code",
   "execution_count": 24,
   "id": "b899e013",
   "metadata": {},
   "outputs": [
    {
     "data": {
      "text/html": [
       "<div>\n",
       "<style scoped>\n",
       "    .dataframe tbody tr th:only-of-type {\n",
       "        vertical-align: middle;\n",
       "    }\n",
       "\n",
       "    .dataframe tbody tr th {\n",
       "        vertical-align: top;\n",
       "    }\n",
       "\n",
       "    .dataframe thead th {\n",
       "        text-align: right;\n",
       "    }\n",
       "</style>\n",
       "<table border=\"1\" class=\"dataframe\">\n",
       "  <thead>\n",
       "    <tr style=\"text-align: right;\">\n",
       "      <th></th>\n",
       "      <th>product_id</th>\n",
       "      <th>aisle_id</th>\n",
       "      <th>department_id</th>\n",
       "    </tr>\n",
       "  </thead>\n",
       "  <tbody>\n",
       "    <tr>\n",
       "      <th>count</th>\n",
       "      <td>49694.00</td>\n",
       "      <td>49694.00</td>\n",
       "      <td>49694.00</td>\n",
       "    </tr>\n",
       "    <tr>\n",
       "      <th>mean</th>\n",
       "      <td>24847.50</td>\n",
       "      <td>67.77</td>\n",
       "      <td>11.73</td>\n",
       "    </tr>\n",
       "    <tr>\n",
       "      <th>std</th>\n",
       "      <td>14345.57</td>\n",
       "      <td>38.32</td>\n",
       "      <td>5.85</td>\n",
       "    </tr>\n",
       "    <tr>\n",
       "      <th>min</th>\n",
       "      <td>1.00</td>\n",
       "      <td>1.00</td>\n",
       "      <td>1.00</td>\n",
       "    </tr>\n",
       "    <tr>\n",
       "      <th>25%</th>\n",
       "      <td>12424.25</td>\n",
       "      <td>35.00</td>\n",
       "      <td>7.00</td>\n",
       "    </tr>\n",
       "    <tr>\n",
       "      <th>50%</th>\n",
       "      <td>24847.50</td>\n",
       "      <td>69.00</td>\n",
       "      <td>13.00</td>\n",
       "    </tr>\n",
       "    <tr>\n",
       "      <th>75%</th>\n",
       "      <td>37270.75</td>\n",
       "      <td>100.00</td>\n",
       "      <td>17.00</td>\n",
       "    </tr>\n",
       "    <tr>\n",
       "      <th>max</th>\n",
       "      <td>49694.00</td>\n",
       "      <td>134.00</td>\n",
       "      <td>21.00</td>\n",
       "    </tr>\n",
       "  </tbody>\n",
       "</table>\n",
       "</div>"
      ],
      "text/plain": [
       "       product_id  aisle_id  department_id\n",
       "count    49694.00  49694.00       49694.00\n",
       "mean     24847.50     67.77          11.73\n",
       "std      14345.57     38.32           5.85\n",
       "min          1.00      1.00           1.00\n",
       "25%      12424.25     35.00           7.00\n",
       "50%      24847.50     69.00          13.00\n",
       "75%      37270.75    100.00          17.00\n",
       "max      49694.00    134.00          21.00"
      ]
     },
     "execution_count": 24,
     "metadata": {},
     "output_type": "execute_result"
    }
   ],
   "source": [
    "df_pro.describe().round(2)"
   ]
  },
  {
   "cell_type": "markdown",
   "id": "c341e94c",
   "metadata": {},
   "source": [
    "[Back to Contents](#back)"
   ]
  },
  {
   "cell_type": "markdown",
   "id": "97e02a07",
   "metadata": {},
   "source": [
    "## 1.2.2 products - Preprocessing <a id='df_pro_Preprocessing'></a>"
   ]
  },
  {
   "cell_type": "markdown",
   "id": "fbc20094",
   "metadata": {},
   "source": [
    "### Missing values <a id='df_pro_missing_values'></a>"
   ]
  },
  {
   "cell_type": "code",
   "execution_count": 25,
   "id": "7af54df2",
   "metadata": {},
   "outputs": [
    {
     "data": {
      "text/plain": [
       "product_id          0\n",
       "product_name     1258\n",
       "aisle_id            0\n",
       "department_id       0\n",
       "dtype: int64"
      ]
     },
     "execution_count": 25,
     "metadata": {},
     "output_type": "execute_result"
    }
   ],
   "source": [
    "df_pro.isnull().sum()"
   ]
  },
  {
   "cell_type": "markdown",
   "id": "fa5fa3d5",
   "metadata": {},
   "source": [
    "### Analysis of Missing Product Names to Guide Data Cleaning Decisions"
   ]
  },
  {
   "cell_type": "code",
   "execution_count": 26,
   "id": "a5febc59",
   "metadata": {
    "scrolled": true
   },
   "outputs": [
    {
     "data": {
      "text/plain": [
       "48436"
      ]
     },
     "execution_count": 26,
     "metadata": {},
     "output_type": "execute_result"
    }
   ],
   "source": [
    "# Checking Unique product names (product_name)\n",
    "df_pro['product_name'].nunique()"
   ]
  },
  {
   "cell_type": "code",
   "execution_count": 27,
   "id": "f87d7045",
   "metadata": {},
   "outputs": [
    {
     "data": {
      "text/plain": [
       "49694"
      ]
     },
     "execution_count": 27,
     "metadata": {},
     "output_type": "execute_result"
    }
   ],
   "source": [
    "# Checking Unique product id's (product_id)\n",
    "df_pro['product_id'].nunique()"
   ]
  },
  {
   "cell_type": "code",
   "execution_count": 28,
   "id": "15450521",
   "metadata": {},
   "outputs": [
    {
     "name": "stdout",
     "output_type": "stream",
     "text": [
      "     product_id  department_id  aisle_id\n",
      "37           38             21       100\n",
      "71           72             21       100\n",
      "109         110             21       100\n",
      "296         297             21       100\n",
      "416         417             21       100\n",
      "436         437             21       100\n",
      "439         440             21       100\n",
      "471         472             21       100\n",
      "490         491             21       100\n",
      "555         556             21       100\n"
     ]
    }
   ],
   "source": [
    "# Find rows with missing product names\n",
    "missing_product_names = df_pro[df_pro['product_name'].isnull()]\n",
    "# Get the product IDs, department IDs, and aisle IDs for missing product names\n",
    "missing_ids = missing_product_names[['product_id', 'department_id', 'aisle_id']]\n",
    "\n",
    "# Explore the resulting DataFrame (missing_ids) to see the corresponding IDs\n",
    "print(missing_ids.head(10))\n"
   ]
  },
  {
   "cell_type": "code",
   "execution_count": 29,
   "id": "1013ebf0",
   "metadata": {},
   "outputs": [
    {
     "data": {
      "text/plain": [
       "product_id       0\n",
       "product_name     0\n",
       "aisle_id         0\n",
       "department_id    0\n",
       "dtype: int64"
      ]
     },
     "execution_count": 29,
     "metadata": {},
     "output_type": "execute_result"
    }
   ],
   "source": [
    "# Impute missing product names with \"Unknown Product\"\n",
    "df_pro['product_name'] = df_pro['product_name'].fillna('Unknown Product')\n",
    "\n",
    "# Rechecking for the missing values:\n",
    "df_pro.isnull().sum()"
   ]
  },
  {
   "cell_type": "code",
   "execution_count": 30,
   "id": "32867ca8",
   "metadata": {
    "scrolled": true
   },
   "outputs": [
    {
     "name": "stdout",
     "output_type": "stream",
     "text": [
      "Number of 'Unknown Product': 1258\n"
     ]
    }
   ],
   "source": [
    "# Count the number of \"Unknown Product\" entries\n",
    "unknown_product_count = df_pro['product_name'].value_counts()['Unknown Product']\n",
    "print(\"Number of 'Unknown Product':\", unknown_product_count)"
   ]
  },
  {
   "cell_type": "markdown",
   "id": "b2defb9d",
   "metadata": {},
   "source": [
    "[Back to Contents](#back)"
   ]
  },
  {
   "cell_type": "markdown",
   "id": "77681df5",
   "metadata": {},
   "source": [
    "### Duplicates <a id='df_pro_duplicates'></a>"
   ]
  },
  {
   "cell_type": "code",
   "execution_count": 31,
   "id": "1c22a248",
   "metadata": {},
   "outputs": [
    {
     "data": {
      "text/plain": [
       "0"
      ]
     },
     "execution_count": 31,
     "metadata": {},
     "output_type": "execute_result"
    }
   ],
   "source": [
    "df_pro.duplicated().sum()"
   ]
  },
  {
   "cell_type": "markdown",
   "id": "0c05a7bd",
   "metadata": {},
   "source": [
    "#### No duplicates where found in the products dataset"
   ]
  },
  {
   "cell_type": "markdown",
   "id": "ea472052",
   "metadata": {},
   "source": [
    "## Conclusion: Handling Missing Product Details in the `product_name` column <a id='df_pro_conclusion'></a>\n",
    "\n",
    "#### Description of Missing Values:\n",
    "During analysis it was found that the value 21 of `department_id` column in the 'departments' database, as well as the value 100 of `aisle_id` column in the 'aisles' database are both correspond to missing data. These missing values represent cases where categorical details and names associated with products are unknown.\n",
    "\n",
    "#### Method Used to Fill Missing Values:\n",
    "To address these missing values, we have decided to categorize them as 'Unknown Product'. This categorization helps in identifying and distinguishing missing product details from actual data.\n",
    "\n",
    "#### Justification for the Choice:\n",
    "- **Data Analysis Principles:** Categorizing missing product details as 'Unknown Product' ensures that the dataset remains informative and usable for analysis. It also helps in maintaining the integrity of the data by clearly identifying missing values.\n",
    "- **Clarity and Consistency:** Using a consistent placeholder ('Unknown Product') for missing values helps in standardizing the dataset and makes it easier to interpret and analyze.\n",
    "\n",
    "By categorizing missing product details as 'Unknown Product', we maintain the quality and reliability of the dataset for further analysis.\n"
   ]
  },
  {
   "cell_type": "markdown",
   "id": "e4f37676",
   "metadata": {},
   "source": [
    "[Back to Contents](#back)"
   ]
  },
  {
   "cell_type": "markdown",
   "id": "5a9bb0f7",
   "metadata": {},
   "source": [
    "---"
   ]
  },
  {
   "cell_type": "markdown",
   "id": "d40afcff",
   "metadata": {},
   "source": [
    "## <u>1.3 order_products (df_orpro) - Overview and Preprocessing</u> <a id='df_orpro_over_pre'></a>"
   ]
  },
  {
   "cell_type": "markdown",
   "id": "7fb20bd9",
   "metadata": {},
   "source": [
    "## 1.3.1 order_products - Overview <a id='df_orpro_overview'></a>"
   ]
  },
  {
   "cell_type": "code",
   "execution_count": 32,
   "id": "6a79f2e3",
   "metadata": {},
   "outputs": [
    {
     "name": "stdout",
     "output_type": "stream",
     "text": [
      "<class 'pandas.core.frame.DataFrame'>\n",
      "RangeIndex: 4545007 entries, 0 to 4545006\n",
      "Data columns (total 4 columns):\n",
      " #   Column             Non-Null Count    Dtype  \n",
      "---  ------             --------------    -----  \n",
      " 0   order_id           4545007 non-null  int64  \n",
      " 1   product_id         4545007 non-null  int64  \n",
      " 2   add_to_cart_order  4544171 non-null  float64\n",
      " 3   reordered          4545007 non-null  int64  \n",
      "dtypes: float64(1), int64(3)\n",
      "memory usage: 138.7 MB\n"
     ]
    }
   ],
   "source": [
    "df_orpro.info(show_counts=True)"
   ]
  },
  {
   "cell_type": "code",
   "execution_count": 33,
   "id": "c531526b",
   "metadata": {},
   "outputs": [
    {
     "data": {
      "text/html": [
       "<div>\n",
       "<style scoped>\n",
       "    .dataframe tbody tr th:only-of-type {\n",
       "        vertical-align: middle;\n",
       "    }\n",
       "\n",
       "    .dataframe tbody tr th {\n",
       "        vertical-align: top;\n",
       "    }\n",
       "\n",
       "    .dataframe thead th {\n",
       "        text-align: right;\n",
       "    }\n",
       "</style>\n",
       "<table border=\"1\" class=\"dataframe\">\n",
       "  <thead>\n",
       "    <tr style=\"text-align: right;\">\n",
       "      <th></th>\n",
       "      <th>order_id</th>\n",
       "      <th>product_id</th>\n",
       "      <th>add_to_cart_order</th>\n",
       "      <th>reordered</th>\n",
       "    </tr>\n",
       "  </thead>\n",
       "  <tbody>\n",
       "    <tr>\n",
       "      <th>0</th>\n",
       "      <td>2141543</td>\n",
       "      <td>11440</td>\n",
       "      <td>17.0</td>\n",
       "      <td>0</td>\n",
       "    </tr>\n",
       "    <tr>\n",
       "      <th>1</th>\n",
       "      <td>567889</td>\n",
       "      <td>1560</td>\n",
       "      <td>1.0</td>\n",
       "      <td>1</td>\n",
       "    </tr>\n",
       "    <tr>\n",
       "      <th>2</th>\n",
       "      <td>2261212</td>\n",
       "      <td>26683</td>\n",
       "      <td>1.0</td>\n",
       "      <td>1</td>\n",
       "    </tr>\n",
       "    <tr>\n",
       "      <th>3</th>\n",
       "      <td>491251</td>\n",
       "      <td>8670</td>\n",
       "      <td>35.0</td>\n",
       "      <td>1</td>\n",
       "    </tr>\n",
       "    <tr>\n",
       "      <th>4</th>\n",
       "      <td>2571142</td>\n",
       "      <td>1940</td>\n",
       "      <td>5.0</td>\n",
       "      <td>1</td>\n",
       "    </tr>\n",
       "    <tr>\n",
       "      <th>5</th>\n",
       "      <td>2456893</td>\n",
       "      <td>21616</td>\n",
       "      <td>4.0</td>\n",
       "      <td>1</td>\n",
       "    </tr>\n",
       "    <tr>\n",
       "      <th>6</th>\n",
       "      <td>644579</td>\n",
       "      <td>12341</td>\n",
       "      <td>5.0</td>\n",
       "      <td>1</td>\n",
       "    </tr>\n",
       "    <tr>\n",
       "      <th>7</th>\n",
       "      <td>2231852</td>\n",
       "      <td>44925</td>\n",
       "      <td>10.0</td>\n",
       "      <td>1</td>\n",
       "    </tr>\n",
       "    <tr>\n",
       "      <th>8</th>\n",
       "      <td>3185766</td>\n",
       "      <td>36259</td>\n",
       "      <td>14.0</td>\n",
       "      <td>1</td>\n",
       "    </tr>\n",
       "    <tr>\n",
       "      <th>9</th>\n",
       "      <td>420019</td>\n",
       "      <td>23315</td>\n",
       "      <td>4.0</td>\n",
       "      <td>1</td>\n",
       "    </tr>\n",
       "  </tbody>\n",
       "</table>\n",
       "</div>"
      ],
      "text/plain": [
       "   order_id  product_id  add_to_cart_order  reordered\n",
       "0   2141543       11440               17.0          0\n",
       "1    567889        1560                1.0          1\n",
       "2   2261212       26683                1.0          1\n",
       "3    491251        8670               35.0          1\n",
       "4   2571142        1940                5.0          1\n",
       "5   2456893       21616                4.0          1\n",
       "6    644579       12341                5.0          1\n",
       "7   2231852       44925               10.0          1\n",
       "8   3185766       36259               14.0          1\n",
       "9    420019       23315                4.0          1"
      ]
     },
     "execution_count": 33,
     "metadata": {},
     "output_type": "execute_result"
    }
   ],
   "source": [
    "df_orpro.head(10)"
   ]
  },
  {
   "cell_type": "code",
   "execution_count": 34,
   "id": "2c1fc013",
   "metadata": {},
   "outputs": [
    {
     "data": {
      "text/html": [
       "<div>\n",
       "<style scoped>\n",
       "    .dataframe tbody tr th:only-of-type {\n",
       "        vertical-align: middle;\n",
       "    }\n",
       "\n",
       "    .dataframe tbody tr th {\n",
       "        vertical-align: top;\n",
       "    }\n",
       "\n",
       "    .dataframe thead th {\n",
       "        text-align: right;\n",
       "    }\n",
       "</style>\n",
       "<table border=\"1\" class=\"dataframe\">\n",
       "  <thead>\n",
       "    <tr style=\"text-align: right;\">\n",
       "      <th></th>\n",
       "      <th>order_id</th>\n",
       "      <th>product_id</th>\n",
       "      <th>add_to_cart_order</th>\n",
       "      <th>reordered</th>\n",
       "    </tr>\n",
       "  </thead>\n",
       "  <tbody>\n",
       "    <tr>\n",
       "      <th>4545002</th>\n",
       "      <td>577211</td>\n",
       "      <td>15290</td>\n",
       "      <td>12.0</td>\n",
       "      <td>1</td>\n",
       "    </tr>\n",
       "    <tr>\n",
       "      <th>4545003</th>\n",
       "      <td>1219554</td>\n",
       "      <td>21914</td>\n",
       "      <td>9.0</td>\n",
       "      <td>0</td>\n",
       "    </tr>\n",
       "    <tr>\n",
       "      <th>4545004</th>\n",
       "      <td>692640</td>\n",
       "      <td>47766</td>\n",
       "      <td>4.0</td>\n",
       "      <td>1</td>\n",
       "    </tr>\n",
       "    <tr>\n",
       "      <th>4545005</th>\n",
       "      <td>319435</td>\n",
       "      <td>691</td>\n",
       "      <td>8.0</td>\n",
       "      <td>1</td>\n",
       "    </tr>\n",
       "    <tr>\n",
       "      <th>4545006</th>\n",
       "      <td>1398151</td>\n",
       "      <td>28733</td>\n",
       "      <td>9.0</td>\n",
       "      <td>0</td>\n",
       "    </tr>\n",
       "  </tbody>\n",
       "</table>\n",
       "</div>"
      ],
      "text/plain": [
       "         order_id  product_id  add_to_cart_order  reordered\n",
       "4545002    577211       15290               12.0          1\n",
       "4545003   1219554       21914                9.0          0\n",
       "4545004    692640       47766                4.0          1\n",
       "4545005    319435         691                8.0          1\n",
       "4545006   1398151       28733                9.0          0"
      ]
     },
     "execution_count": 34,
     "metadata": {},
     "output_type": "execute_result"
    }
   ],
   "source": [
    "df_orpro.tail()"
   ]
  },
  {
   "cell_type": "code",
   "execution_count": 35,
   "id": "b29d7a40",
   "metadata": {},
   "outputs": [
    {
     "data": {
      "text/html": [
       "<div>\n",
       "<style scoped>\n",
       "    .dataframe tbody tr th:only-of-type {\n",
       "        vertical-align: middle;\n",
       "    }\n",
       "\n",
       "    .dataframe tbody tr th {\n",
       "        vertical-align: top;\n",
       "    }\n",
       "\n",
       "    .dataframe thead th {\n",
       "        text-align: right;\n",
       "    }\n",
       "</style>\n",
       "<table border=\"1\" class=\"dataframe\">\n",
       "  <thead>\n",
       "    <tr style=\"text-align: right;\">\n",
       "      <th></th>\n",
       "      <th>order_id</th>\n",
       "      <th>product_id</th>\n",
       "      <th>add_to_cart_order</th>\n",
       "      <th>reordered</th>\n",
       "    </tr>\n",
       "  </thead>\n",
       "  <tbody>\n",
       "    <tr>\n",
       "      <th>count</th>\n",
       "      <td>4545007.00</td>\n",
       "      <td>4545007.00</td>\n",
       "      <td>4544171.00</td>\n",
       "      <td>4545007.00</td>\n",
       "    </tr>\n",
       "    <tr>\n",
       "      <th>mean</th>\n",
       "      <td>1711165.93</td>\n",
       "      <td>25580.84</td>\n",
       "      <td>8.35</td>\n",
       "      <td>0.59</td>\n",
       "    </tr>\n",
       "    <tr>\n",
       "      <th>std</th>\n",
       "      <td>985095.50</td>\n",
       "      <td>14095.52</td>\n",
       "      <td>7.08</td>\n",
       "      <td>0.49</td>\n",
       "    </tr>\n",
       "    <tr>\n",
       "      <th>min</th>\n",
       "      <td>4.00</td>\n",
       "      <td>1.00</td>\n",
       "      <td>1.00</td>\n",
       "      <td>0.00</td>\n",
       "    </tr>\n",
       "    <tr>\n",
       "      <th>25%</th>\n",
       "      <td>860817.00</td>\n",
       "      <td>13535.00</td>\n",
       "      <td>3.00</td>\n",
       "      <td>0.00</td>\n",
       "    </tr>\n",
       "    <tr>\n",
       "      <th>50%</th>\n",
       "      <td>1711530.00</td>\n",
       "      <td>25272.00</td>\n",
       "      <td>6.00</td>\n",
       "      <td>1.00</td>\n",
       "    </tr>\n",
       "    <tr>\n",
       "      <th>75%</th>\n",
       "      <td>2561311.00</td>\n",
       "      <td>37935.00</td>\n",
       "      <td>11.00</td>\n",
       "      <td>1.00</td>\n",
       "    </tr>\n",
       "    <tr>\n",
       "      <th>max</th>\n",
       "      <td>3421079.00</td>\n",
       "      <td>49694.00</td>\n",
       "      <td>64.00</td>\n",
       "      <td>1.00</td>\n",
       "    </tr>\n",
       "  </tbody>\n",
       "</table>\n",
       "</div>"
      ],
      "text/plain": [
       "         order_id  product_id  add_to_cart_order   reordered\n",
       "count  4545007.00  4545007.00         4544171.00  4545007.00\n",
       "mean   1711165.93    25580.84               8.35        0.59\n",
       "std     985095.50    14095.52               7.08        0.49\n",
       "min          4.00        1.00               1.00        0.00\n",
       "25%     860817.00    13535.00               3.00        0.00\n",
       "50%    1711530.00    25272.00               6.00        1.00\n",
       "75%    2561311.00    37935.00              11.00        1.00\n",
       "max    3421079.00    49694.00              64.00        1.00"
      ]
     },
     "execution_count": 35,
     "metadata": {},
     "output_type": "execute_result"
    }
   ],
   "source": [
    "df_orpro.describe().round(2)"
   ]
  },
  {
   "cell_type": "markdown",
   "id": "24bdeb02",
   "metadata": {},
   "source": [
    "[Back to Contents](#back)"
   ]
  },
  {
   "cell_type": "markdown",
   "id": "a3293c59",
   "metadata": {},
   "source": [
    "## 1.3.2 order_products - Preprocessing <a id='df_orpro_Preprocessing'></a>"
   ]
  },
  {
   "cell_type": "markdown",
   "id": "160186b9",
   "metadata": {},
   "source": [
    "### Missing values <a id='df_orpro_missing_values'></a>"
   ]
  },
  {
   "cell_type": "code",
   "execution_count": 36,
   "id": "bedb9f1b",
   "metadata": {},
   "outputs": [
    {
     "data": {
      "text/plain": [
       "order_id               0\n",
       "product_id             0\n",
       "add_to_cart_order    836\n",
       "reordered              0\n",
       "dtype: int64"
      ]
     },
     "execution_count": 36,
     "metadata": {},
     "output_type": "execute_result"
    }
   ],
   "source": [
    "df_orpro.isnull().sum()"
   ]
  },
  {
   "cell_type": "markdown",
   "id": "d14623c3",
   "metadata": {},
   "source": [
    "#### Calculate the median and filling the missing values of the 'add_to_cart_order' column"
   ]
  },
  {
   "cell_type": "code",
   "execution_count": 37,
   "id": "7d182845",
   "metadata": {},
   "outputs": [],
   "source": [
    "median_value = df_orpro['add_to_cart_order'].median()\n",
    "df_orpro['add_to_cart_order'].fillna(median_value, inplace=True)"
   ]
  },
  {
   "cell_type": "markdown",
   "id": "5aa13d63",
   "metadata": {},
   "source": [
    "#### Checking for missing values after cleaning"
   ]
  },
  {
   "cell_type": "code",
   "execution_count": 38,
   "id": "3467d053",
   "metadata": {},
   "outputs": [
    {
     "data": {
      "text/plain": [
       "order_id             0\n",
       "product_id           0\n",
       "add_to_cart_order    0\n",
       "reordered            0\n",
       "dtype: int64"
      ]
     },
     "execution_count": 38,
     "metadata": {},
     "output_type": "execute_result"
    }
   ],
   "source": [
    "df_orpro.isnull().sum()"
   ]
  },
  {
   "cell_type": "markdown",
   "id": "993bc278",
   "metadata": {},
   "source": [
    "[Back to Contents](#back)"
   ]
  },
  {
   "cell_type": "markdown",
   "id": "ba0d4598",
   "metadata": {},
   "source": [
    "### Duplicates <a id='df_orpro_duplicates'></a>"
   ]
  },
  {
   "cell_type": "code",
   "execution_count": 39,
   "id": "e039c492",
   "metadata": {},
   "outputs": [
    {
     "data": {
      "text/plain": [
       "0"
      ]
     },
     "execution_count": 39,
     "metadata": {},
     "output_type": "execute_result"
    }
   ],
   "source": [
    "df_orpro.duplicated().sum()"
   ]
  },
  {
   "cell_type": "markdown",
   "id": "e5746344",
   "metadata": {},
   "source": [
    "#### No duplicates where found in the order_products dataset"
   ]
  },
  {
   "cell_type": "markdown",
   "id": "fa63e896",
   "metadata": {},
   "source": [
    "## Conclusion: Handling Missing Values in the `add_to_cart_order` Column <a id='df_orpro_conclusion'></a>\n",
    "\n",
    "**Description of Missing Values:**\n",
    "The `add_to_cart_order` column in the `df_orpro` dataset contains 836 missing values out of 4545007 total entries. These missing values represent cases where the order in which products were added to the cart was not recorded.\n",
    "\n",
    "**Method Used to Fill Missing Values:**\n",
    "To address these missing values, we calculated the median value of the `add_to_cart_order` column, which is 8.0. We then filled the missing values with this median value using the `fillna()` method.\n",
    "\n",
    "**Justification for the Choice:**\n",
    "- **Data Analysis Principles:** Filling missing values with the median ensures that the overall distribution of the data is preserved. This approach is suitable for numerical data like `add_to_cart_order` and is less likely to introduce bias compared to deleting rows or using a placeholder value.\n",
    "- **Efficiency:** Calculating the median once and then filling all missing values with this value is a more efficient approach than calculating the median for each missing value individually."
   ]
  },
  {
   "cell_type": "markdown",
   "id": "af65794b",
   "metadata": {},
   "source": [
    "[Back to Contents](#back)"
   ]
  },
  {
   "cell_type": "markdown",
   "id": "62a99778",
   "metadata": {},
   "source": [
    "---"
   ]
  },
  {
   "cell_type": "markdown",
   "id": "e70e6dc7",
   "metadata": {},
   "source": [
    "## <u>1.4 aisles (df_aisles) - Overview and Preprocessing</u> <a id='df_aisles_over_pre'></a>"
   ]
  },
  {
   "cell_type": "markdown",
   "id": "e853186a",
   "metadata": {},
   "source": [
    "## 1.4.1 aisles - Overview <a id='df_aisles_overview'></a>"
   ]
  },
  {
   "cell_type": "code",
   "execution_count": 40,
   "id": "715a7356",
   "metadata": {},
   "outputs": [
    {
     "name": "stdout",
     "output_type": "stream",
     "text": [
      "<class 'pandas.core.frame.DataFrame'>\n",
      "RangeIndex: 134 entries, 0 to 133\n",
      "Data columns (total 2 columns):\n",
      " #   Column    Non-Null Count  Dtype \n",
      "---  ------    --------------  ----- \n",
      " 0   aisle_id  134 non-null    int64 \n",
      " 1   aisle     134 non-null    object\n",
      "dtypes: int64(1), object(1)\n",
      "memory usage: 2.2+ KB\n"
     ]
    }
   ],
   "source": [
    "df_aisles.info()"
   ]
  },
  {
   "cell_type": "code",
   "execution_count": 41,
   "id": "eae1b232",
   "metadata": {},
   "outputs": [
    {
     "data": {
      "text/html": [
       "<div>\n",
       "<style scoped>\n",
       "    .dataframe tbody tr th:only-of-type {\n",
       "        vertical-align: middle;\n",
       "    }\n",
       "\n",
       "    .dataframe tbody tr th {\n",
       "        vertical-align: top;\n",
       "    }\n",
       "\n",
       "    .dataframe thead th {\n",
       "        text-align: right;\n",
       "    }\n",
       "</style>\n",
       "<table border=\"1\" class=\"dataframe\">\n",
       "  <thead>\n",
       "    <tr style=\"text-align: right;\">\n",
       "      <th></th>\n",
       "      <th>aisle_id</th>\n",
       "      <th>aisle</th>\n",
       "    </tr>\n",
       "  </thead>\n",
       "  <tbody>\n",
       "    <tr>\n",
       "      <th>0</th>\n",
       "      <td>1</td>\n",
       "      <td>prepared soups salads</td>\n",
       "    </tr>\n",
       "    <tr>\n",
       "      <th>1</th>\n",
       "      <td>2</td>\n",
       "      <td>specialty cheeses</td>\n",
       "    </tr>\n",
       "    <tr>\n",
       "      <th>2</th>\n",
       "      <td>3</td>\n",
       "      <td>energy granola bars</td>\n",
       "    </tr>\n",
       "    <tr>\n",
       "      <th>3</th>\n",
       "      <td>4</td>\n",
       "      <td>instant foods</td>\n",
       "    </tr>\n",
       "    <tr>\n",
       "      <th>4</th>\n",
       "      <td>5</td>\n",
       "      <td>marinades meat preparation</td>\n",
       "    </tr>\n",
       "  </tbody>\n",
       "</table>\n",
       "</div>"
      ],
      "text/plain": [
       "   aisle_id                       aisle\n",
       "0         1       prepared soups salads\n",
       "1         2           specialty cheeses\n",
       "2         3         energy granola bars\n",
       "3         4               instant foods\n",
       "4         5  marinades meat preparation"
      ]
     },
     "execution_count": 41,
     "metadata": {},
     "output_type": "execute_result"
    }
   ],
   "source": [
    "df_aisles.head()"
   ]
  },
  {
   "cell_type": "code",
   "execution_count": 42,
   "id": "cea18561",
   "metadata": {},
   "outputs": [
    {
     "data": {
      "text/html": [
       "<div>\n",
       "<style scoped>\n",
       "    .dataframe tbody tr th:only-of-type {\n",
       "        vertical-align: middle;\n",
       "    }\n",
       "\n",
       "    .dataframe tbody tr th {\n",
       "        vertical-align: top;\n",
       "    }\n",
       "\n",
       "    .dataframe thead th {\n",
       "        text-align: right;\n",
       "    }\n",
       "</style>\n",
       "<table border=\"1\" class=\"dataframe\">\n",
       "  <thead>\n",
       "    <tr style=\"text-align: right;\">\n",
       "      <th></th>\n",
       "      <th>aisle_id</th>\n",
       "      <th>aisle</th>\n",
       "    </tr>\n",
       "  </thead>\n",
       "  <tbody>\n",
       "    <tr>\n",
       "      <th>129</th>\n",
       "      <td>130</td>\n",
       "      <td>hot cereal pancake mixes</td>\n",
       "    </tr>\n",
       "    <tr>\n",
       "      <th>130</th>\n",
       "      <td>131</td>\n",
       "      <td>dry pasta</td>\n",
       "    </tr>\n",
       "    <tr>\n",
       "      <th>131</th>\n",
       "      <td>132</td>\n",
       "      <td>beauty</td>\n",
       "    </tr>\n",
       "    <tr>\n",
       "      <th>132</th>\n",
       "      <td>133</td>\n",
       "      <td>muscles joints pain relief</td>\n",
       "    </tr>\n",
       "    <tr>\n",
       "      <th>133</th>\n",
       "      <td>134</td>\n",
       "      <td>specialty wines champagnes</td>\n",
       "    </tr>\n",
       "  </tbody>\n",
       "</table>\n",
       "</div>"
      ],
      "text/plain": [
       "     aisle_id                       aisle\n",
       "129       130    hot cereal pancake mixes\n",
       "130       131                   dry pasta\n",
       "131       132                      beauty\n",
       "132       133  muscles joints pain relief\n",
       "133       134  specialty wines champagnes"
      ]
     },
     "execution_count": 42,
     "metadata": {},
     "output_type": "execute_result"
    }
   ],
   "source": [
    "df_aisles.tail()"
   ]
  },
  {
   "cell_type": "markdown",
   "id": "fdabd58b",
   "metadata": {},
   "source": [
    "[Back to Contents](#back)"
   ]
  },
  {
   "cell_type": "markdown",
   "id": "fc67f22a",
   "metadata": {},
   "source": [
    "## 1.4.2 aisles - Preprocessing <a id='df_aisles_Preprocessing'></a>\n",
    "### Missing values <a id='df_aisles_missing_values'></a>"
   ]
  },
  {
   "cell_type": "code",
   "execution_count": 43,
   "id": "8bd37d7c",
   "metadata": {},
   "outputs": [
    {
     "data": {
      "text/plain": [
       "aisle_id    0\n",
       "aisle       0\n",
       "dtype: int64"
      ]
     },
     "execution_count": 43,
     "metadata": {},
     "output_type": "execute_result"
    }
   ],
   "source": [
    "df_aisles.isnull().sum()"
   ]
  },
  {
   "cell_type": "markdown",
   "id": "ba850301",
   "metadata": {},
   "source": [
    "#### No missing values where found in the aisle dataset"
   ]
  },
  {
   "cell_type": "markdown",
   "id": "1c25deb9",
   "metadata": {},
   "source": [
    "### Duplicates <a id='df_aisles_duplicates'></a>"
   ]
  },
  {
   "cell_type": "code",
   "execution_count": 44,
   "id": "ee8b2d91",
   "metadata": {},
   "outputs": [
    {
     "data": {
      "text/plain": [
       "0"
      ]
     },
     "execution_count": 44,
     "metadata": {},
     "output_type": "execute_result"
    }
   ],
   "source": [
    "df_aisles.duplicated().sum()"
   ]
  },
  {
   "cell_type": "markdown",
   "id": "a65389eb",
   "metadata": {},
   "source": [
    "#### No duplicates where found in the aisles dataset"
   ]
  },
  {
   "cell_type": "markdown",
   "id": "f1542830",
   "metadata": {},
   "source": [
    "[Back to Contents](#back)"
   ]
  },
  {
   "cell_type": "markdown",
   "id": "7f5e3960",
   "metadata": {},
   "source": [
    "### Addressing Missing Values in the `product_name` Column in the Product Dataset\n",
    "#### Number of unique aisle names:"
   ]
  },
  {
   "cell_type": "code",
   "execution_count": 45,
   "id": "ac51f6d3",
   "metadata": {},
   "outputs": [
    {
     "name": "stdout",
     "output_type": "stream",
     "text": [
      "The number of unique aisle names: 134\n"
     ]
    }
   ],
   "source": [
    "unique_aisle_names = df_aisles['aisle'].nunique()\n",
    "print('The number of unique aisle names:', unique_aisle_names)"
   ]
  },
  {
   "cell_type": "markdown",
   "id": "4e09e558",
   "metadata": {},
   "source": [
    "#### Number of unique aisle_id:"
   ]
  },
  {
   "cell_type": "code",
   "execution_count": 46,
   "id": "f20208dc",
   "metadata": {},
   "outputs": [
    {
     "name": "stdout",
     "output_type": "stream",
     "text": [
      "The number of unique aisle_id: 134\n"
     ]
    }
   ],
   "source": [
    "unique_aisle_id = df_aisles['aisle_id'].nunique()\n",
    "print('The number of unique aisle_id:', unique_aisle_id)"
   ]
  },
  {
   "cell_type": "markdown",
   "id": "1318e290",
   "metadata": {},
   "source": [
    "#### Analyzing the Value 100 in the `aisle_id` Column"
   ]
  },
  {
   "cell_type": "code",
   "execution_count": 47,
   "id": "08fcc306",
   "metadata": {},
   "outputs": [
    {
     "name": "stdout",
     "output_type": "stream",
     "text": [
      "aisle_id        100\n",
      "aisle       missing\n",
      "Name: 99, dtype: object\n"
     ]
    }
   ],
   "source": [
    "aisle_id = 100\n",
    "\n",
    "aisle_of_interest = df_aisles[df_aisles['aisle_id'] == aisle_id] # filtering the row with aisle_id = 100\n",
    "\n",
    "print(aisle_of_interest.iloc[0])  # Access the first row using iloc"
   ]
  },
  {
   "cell_type": "markdown",
   "id": "4fb976d4",
   "metadata": {},
   "source": [
    "[Back to Contents](#back)"
   ]
  },
  {
   "cell_type": "markdown",
   "id": "9622fbd9",
   "metadata": {},
   "source": [
    "## Conclusion <a id='df_aisles_conclusion'></a>"
   ]
  },
  {
   "cell_type": "markdown",
   "id": "f1ef1321",
   "metadata": {},
   "source": [
    "---"
   ]
  },
  {
   "cell_type": "markdown",
   "id": "2a787855",
   "metadata": {},
   "source": [
    "## <u>1.5 departments (df_dep) - Overview and Preprocessing</u> <a id='df_dep_over_pre'></a>"
   ]
  },
  {
   "cell_type": "markdown",
   "id": "507bf900",
   "metadata": {},
   "source": [
    "## 1.5.1 departments - Overview <a id='df_dep_overview'></a>"
   ]
  },
  {
   "cell_type": "code",
   "execution_count": 48,
   "id": "c7d89d33",
   "metadata": {},
   "outputs": [
    {
     "name": "stdout",
     "output_type": "stream",
     "text": [
      "<class 'pandas.core.frame.DataFrame'>\n",
      "RangeIndex: 21 entries, 0 to 20\n",
      "Data columns (total 2 columns):\n",
      " #   Column         Non-Null Count  Dtype \n",
      "---  ------         --------------  ----- \n",
      " 0   department_id  21 non-null     int64 \n",
      " 1   department     21 non-null     object\n",
      "dtypes: int64(1), object(1)\n",
      "memory usage: 468.0+ bytes\n"
     ]
    }
   ],
   "source": [
    "df_dep.info()"
   ]
  },
  {
   "cell_type": "markdown",
   "id": "560a659b",
   "metadata": {},
   "source": [
    "#### Display the entire department DataFrame"
   ]
  },
  {
   "cell_type": "code",
   "execution_count": 49,
   "id": "f95447fa",
   "metadata": {},
   "outputs": [
    {
     "data": {
      "text/html": [
       "<div>\n",
       "<style scoped>\n",
       "    .dataframe tbody tr th:only-of-type {\n",
       "        vertical-align: middle;\n",
       "    }\n",
       "\n",
       "    .dataframe tbody tr th {\n",
       "        vertical-align: top;\n",
       "    }\n",
       "\n",
       "    .dataframe thead th {\n",
       "        text-align: right;\n",
       "    }\n",
       "</style>\n",
       "<table border=\"1\" class=\"dataframe\">\n",
       "  <thead>\n",
       "    <tr style=\"text-align: right;\">\n",
       "      <th></th>\n",
       "      <th>department_id</th>\n",
       "      <th>department</th>\n",
       "    </tr>\n",
       "  </thead>\n",
       "  <tbody>\n",
       "    <tr>\n",
       "      <th>0</th>\n",
       "      <td>1</td>\n",
       "      <td>frozen</td>\n",
       "    </tr>\n",
       "    <tr>\n",
       "      <th>1</th>\n",
       "      <td>2</td>\n",
       "      <td>other</td>\n",
       "    </tr>\n",
       "    <tr>\n",
       "      <th>2</th>\n",
       "      <td>3</td>\n",
       "      <td>bakery</td>\n",
       "    </tr>\n",
       "    <tr>\n",
       "      <th>3</th>\n",
       "      <td>4</td>\n",
       "      <td>produce</td>\n",
       "    </tr>\n",
       "    <tr>\n",
       "      <th>4</th>\n",
       "      <td>5</td>\n",
       "      <td>alcohol</td>\n",
       "    </tr>\n",
       "    <tr>\n",
       "      <th>5</th>\n",
       "      <td>6</td>\n",
       "      <td>international</td>\n",
       "    </tr>\n",
       "    <tr>\n",
       "      <th>6</th>\n",
       "      <td>7</td>\n",
       "      <td>beverages</td>\n",
       "    </tr>\n",
       "    <tr>\n",
       "      <th>7</th>\n",
       "      <td>8</td>\n",
       "      <td>pets</td>\n",
       "    </tr>\n",
       "    <tr>\n",
       "      <th>8</th>\n",
       "      <td>9</td>\n",
       "      <td>dry goods pasta</td>\n",
       "    </tr>\n",
       "    <tr>\n",
       "      <th>9</th>\n",
       "      <td>10</td>\n",
       "      <td>bulk</td>\n",
       "    </tr>\n",
       "    <tr>\n",
       "      <th>10</th>\n",
       "      <td>11</td>\n",
       "      <td>personal care</td>\n",
       "    </tr>\n",
       "    <tr>\n",
       "      <th>11</th>\n",
       "      <td>12</td>\n",
       "      <td>meat seafood</td>\n",
       "    </tr>\n",
       "    <tr>\n",
       "      <th>12</th>\n",
       "      <td>13</td>\n",
       "      <td>pantry</td>\n",
       "    </tr>\n",
       "    <tr>\n",
       "      <th>13</th>\n",
       "      <td>14</td>\n",
       "      <td>breakfast</td>\n",
       "    </tr>\n",
       "    <tr>\n",
       "      <th>14</th>\n",
       "      <td>15</td>\n",
       "      <td>canned goods</td>\n",
       "    </tr>\n",
       "    <tr>\n",
       "      <th>15</th>\n",
       "      <td>16</td>\n",
       "      <td>dairy eggs</td>\n",
       "    </tr>\n",
       "    <tr>\n",
       "      <th>16</th>\n",
       "      <td>17</td>\n",
       "      <td>household</td>\n",
       "    </tr>\n",
       "    <tr>\n",
       "      <th>17</th>\n",
       "      <td>18</td>\n",
       "      <td>babies</td>\n",
       "    </tr>\n",
       "    <tr>\n",
       "      <th>18</th>\n",
       "      <td>19</td>\n",
       "      <td>snacks</td>\n",
       "    </tr>\n",
       "    <tr>\n",
       "      <th>19</th>\n",
       "      <td>20</td>\n",
       "      <td>deli</td>\n",
       "    </tr>\n",
       "    <tr>\n",
       "      <th>20</th>\n",
       "      <td>21</td>\n",
       "      <td>missing</td>\n",
       "    </tr>\n",
       "  </tbody>\n",
       "</table>\n",
       "</div>"
      ],
      "text/plain": [
       "    department_id       department\n",
       "0               1           frozen\n",
       "1               2            other\n",
       "2               3           bakery\n",
       "3               4          produce\n",
       "4               5          alcohol\n",
       "5               6    international\n",
       "6               7        beverages\n",
       "7               8             pets\n",
       "8               9  dry goods pasta\n",
       "9              10             bulk\n",
       "10             11    personal care\n",
       "11             12     meat seafood\n",
       "12             13           pantry\n",
       "13             14        breakfast\n",
       "14             15     canned goods\n",
       "15             16       dairy eggs\n",
       "16             17        household\n",
       "17             18           babies\n",
       "18             19           snacks\n",
       "19             20             deli\n",
       "20             21          missing"
      ]
     },
     "execution_count": 49,
     "metadata": {},
     "output_type": "execute_result"
    }
   ],
   "source": [
    "df_dep"
   ]
  },
  {
   "cell_type": "markdown",
   "id": "e20778e1",
   "metadata": {},
   "source": [
    "[Back to Contents](#back)"
   ]
  },
  {
   "cell_type": "markdown",
   "id": "05388545",
   "metadata": {},
   "source": [
    "## 1.5.2 departments - Preprocessing <a id='df_dep_Preprocessing'></a>\n",
    "### Missing values <a id='df_dep_missing_values'></a>"
   ]
  },
  {
   "cell_type": "code",
   "execution_count": 50,
   "id": "485d1a85",
   "metadata": {
    "scrolled": true
   },
   "outputs": [
    {
     "data": {
      "text/plain": [
       "department_id    0\n",
       "department       0\n",
       "dtype: int64"
      ]
     },
     "execution_count": 50,
     "metadata": {},
     "output_type": "execute_result"
    }
   ],
   "source": [
    "df_dep.isnull().sum()"
   ]
  },
  {
   "cell_type": "markdown",
   "id": "a19dbfb0",
   "metadata": {},
   "source": [
    "#### No missing values where found in the departments dataset"
   ]
  },
  {
   "cell_type": "markdown",
   "id": "a701c976",
   "metadata": {},
   "source": [
    "### Duplicates <a id='df_dep_duplicates'></a>"
   ]
  },
  {
   "cell_type": "code",
   "execution_count": 51,
   "id": "07409240",
   "metadata": {},
   "outputs": [
    {
     "data": {
      "text/plain": [
       "0"
      ]
     },
     "execution_count": 51,
     "metadata": {},
     "output_type": "execute_result"
    }
   ],
   "source": [
    "df_dep.duplicated().sum()"
   ]
  },
  {
   "cell_type": "markdown",
   "id": "26f88071",
   "metadata": {},
   "source": [
    "#### No duplicates where found in the departments dataset"
   ]
  },
  {
   "cell_type": "markdown",
   "id": "14507f95",
   "metadata": {},
   "source": [
    "## Conclusion: Handling Missing Product Details in the `product_name` column <a id='df_dep_conclusion'></a>\n",
    "\n",
    "#### Explanation of Missing Values:\n",
    "During the analysis of the `product_name` column in the product dataset, it was identified that some entries were missing. To understand the nature of these missing values, we examined related columns, including the `aisle_id` and `department_id`.\n",
    "\n",
    "#### Analyzing the `department_id` Column:\n",
    "Since the `department` DataFrame is relatively small, containing only 21 rows, it is beneficial to display the entire DataFrame. This comprehensive view helps in identifying any discrepancies or patterns that may contribute to the missing values in the `product_name` column."
   ]
  },
  {
   "cell_type": "markdown",
   "id": "ff6e1fb8",
   "metadata": {},
   "source": [
    "[Back to Contents](#back)"
   ]
  },
  {
   "cell_type": "markdown",
   "id": "7c7d17a5",
   "metadata": {},
   "source": [
    "---\n",
    "---"
   ]
  },
  {
   "cell_type": "markdown",
   "id": "b6328d6e",
   "metadata": {},
   "source": [
    "# <u>Stage 2. Data Analysis</u> <a id='da_data_analysis'></a>"
   ]
  },
  {
   "cell_type": "markdown",
   "id": "e6b9d75e",
   "metadata": {},
   "source": [
    "##  <u>2.1 Verify and Redefine `order_dow` values</u> <a id='da_order_dow_verify'></a>"
   ]
  },
  {
   "cell_type": "markdown",
   "id": "66430f65",
   "metadata": {},
   "source": [
    "### Sorted Unique Days of the Week `order_dow` column"
   ]
  },
  {
   "cell_type": "code",
   "execution_count": 52,
   "id": "5f868482",
   "metadata": {},
   "outputs": [
    {
     "data": {
      "text/plain": [
       "[0, 1, 2, 3, 4, 5, 6]"
      ]
     },
     "execution_count": 52,
     "metadata": {},
     "output_type": "execute_result"
    }
   ],
   "source": [
    "sorted(df_insor['order_dow'].unique())"
   ]
  },
  {
   "cell_type": "markdown",
   "id": "0fff7a9c",
   "metadata": {},
   "source": [
    "### Defining the numbers to days of the week"
   ]
  },
  {
   "cell_type": "code",
   "execution_count": 53,
   "id": "b2b3f3b8",
   "metadata": {
    "scrolled": true
   },
   "outputs": [],
   "source": [
    "# Define the mapping of numbers to days of the week\n",
    "dow_mapping = {\n",
    "    0: 'Sunday',\n",
    "    1: 'Monday',\n",
    "    2: 'Tuesday',\n",
    "    3: 'Wednesday',\n",
    "    4: 'Thursday',\n",
    "    5: 'Friday',\n",
    "    6: 'Saturday'\n",
    "}\n",
    "\n",
    "# Apply the mapping to the 'order_dow' column\n",
    "df_insor['order_dow'] = df_insor['order_dow'].map(dow_mapping)\n",
    "\n",
    "# Define the order of the days of the week\n",
    "days_order = ['Sunday', 'Monday', 'Tuesday', 'Wednesday', 'Thursday', 'Friday', 'Saturday']\n",
    "\n",
    "# Convert 'order_dow' to a categorical type with the specified order\n",
    "df_insor['order_dow'] = pd.Categorical(df_insor['order_dow'], categories=days_order, ordered=True)"
   ]
  },
  {
   "cell_type": "markdown",
   "id": "b32e8c39",
   "metadata": {},
   "source": [
    "### Clarification for order_dow values\n",
    "I observed that the dataset does not explicitly indicate which number corresponds to which day of the week, making it impossible to determine the days based solely on the data. However, I assumed that 0 represents Sunday for the following reasons:\n",
    "\n",
    "1. It is common practice in systems that use numbers to represent the days of the week to use 0 for Sunday.\n",
    "2. Analyzing the data, I noted that day 0 had a high number of orders. Given that Sunday is often associated with increased grocery shopping, it seemed reasonable that Sunday would have this volume of orders rather than Monday.\n",
    "\n",
    "This assumption was made based on the data and common practices. I acknowledge that this is not certain and could be revisited or further investigated if additional information regarding the data becomes available in the future.\n",
    "\n",
    "Therefore, I proceeded with the assumption that 0 corresponds to Sunday, 1 to Monday, and so on.\n"
   ]
  },
  {
   "cell_type": "markdown",
   "id": "5f426dd1",
   "metadata": {},
   "source": [
    "[Back to Contents](#back)"
   ]
  },
  {
   "cell_type": "markdown",
   "id": "4ffea9bc",
   "metadata": {},
   "source": [
    "##  <u>2.2 Verify `order_hour_of_day` Range</u> <a id='da_order_hod_verify'></a>"
   ]
  },
  {
   "cell_type": "markdown",
   "id": "a2770e5e",
   "metadata": {},
   "source": [
    "### Range of unique hours in `order_hour_of_day` column"
   ]
  },
  {
   "cell_type": "code",
   "execution_count": 54,
   "id": "89b0d13d",
   "metadata": {},
   "outputs": [
    {
     "name": "stdout",
     "output_type": "stream",
     "text": [
      "Range of 'order_hour_of_day': 23\n"
     ]
    }
   ],
   "source": [
    "unique_values = df_insor['order_hour_of_day'].unique()\n",
    "value_range = unique_values.max() - unique_values.min()\n",
    "print(\"Range of 'order_hour_of_day':\", value_range)"
   ]
  },
  {
   "cell_type": "markdown",
   "id": "7414f4c9",
   "metadata": {},
   "source": [
    "### Sorted unique hours in `order_hour_of_day` column"
   ]
  },
  {
   "cell_type": "code",
   "execution_count": 55,
   "id": "c0e6d22d",
   "metadata": {},
   "outputs": [
    {
     "name": "stdout",
     "output_type": "stream",
     "text": [
      "Sorted unique values in 'order_hour_of_day': [0, 1, 2, 3, 4, 5, 6, 7, 8, 9, 10, 11, 12, 13, 14, 15, 16, 17, 18, 19, 20, 21, 22, 23]\n"
     ]
    }
   ],
   "source": [
    "print(\"Sorted unique values in 'order_hour_of_day':\", sorted(df_insor['order_hour_of_day'].unique()))\n"
   ]
  },
  {
   "cell_type": "markdown",
   "id": "3f98e287",
   "metadata": {},
   "source": [
    "[Back to Contents](#back)"
   ]
  },
  {
   "cell_type": "markdown",
   "id": "7177a253",
   "metadata": {},
   "source": [
    "---"
   ]
  },
  {
   "cell_type": "markdown",
   "id": "0015022f",
   "metadata": {},
   "source": [
    "## <u>2.3 Ploting Data - Easy</u> <a id='da_ploting_data_easy'></a>"
   ]
  },
  {
   "cell_type": "markdown",
   "id": "19b1f78d",
   "metadata": {},
   "source": [
    "### 2.3.1 Orders by Hour of the Day - Bar Chart <a id='da_order_hod_bar'></a>"
   ]
  },
  {
   "cell_type": "code",
   "execution_count": 56,
   "id": "aed5d033",
   "metadata": {},
   "outputs": [
    {
     "data": {
      "image/png": "[encoded data removed]",
      "text/plain": [
       "<Figure size 1000x600 with 1 Axes>"
      ]
     },
     "metadata": {},
     "output_type": "display_data"
    }
   ],
   "source": [
    "# Count the number of orders for each hour\n",
    "order_counts = df_insor['order_hour_of_day'].value_counts().sort_index()\n",
    "\n",
    "# Define the colors for the gradient\n",
    "n_hours = 24\n",
    "colors = []\n",
    "for i in range(n_hours):\n",
    "    if i <= 12:\n",
    "        # Gradient from dark blue to yellowish orange\n",
    "        r = int((255 / 12) * i)\n",
    "        g = int((215 / 12) * i)  # Adjusted for yellowish orange\n",
    "        b = int(255 - (255 / 12) * i)\n",
    "    else:\n",
    "        # Gradient from yellowish orange back to dark blue\n",
    "        r = int(255 - (255 / 11) * (i - 12))\n",
    "        g = int(215 - (215 / 11) * (i - 12))  # Adjusted for yellowish orange\n",
    "        b = int((255 / 11) * (i - 12))\n",
    "    colors.append((r / 255, g / 255, b / 255))\n",
    "\n",
    "# Plot the counts with the gradient colors\n",
    "plt.figure(figsize=(10, 6))\n",
    "order_counts.plot(kind='bar', color=colors)\n",
    "plt.xlabel('Hour of the Day')\n",
    "plt.ylabel('Number of Orders')\n",
    "plt.title('Number of Orders Placed for Each Hour of the Day')\n",
    "plt.xticks(rotation=0)\n",
    "plt.grid(axis='y')\n",
    "plt.show()"
   ]
  },
  {
   "cell_type": "markdown",
   "id": "78eb735d",
   "metadata": {},
   "source": [
    "## Conclusion: Order Placement by Hour of the Day <a id='da_order_hod_conclusion'></a>\n",
    "\n",
    "The data shows the number of orders placed for each hour of the day. From the analysis, we observe the following trends:\n",
    "\n",
    "- **Early Morning (0-5 AM)**: There is a relatively low number of orders, with the count gradually increasing from 3,180 at midnight to 1,371 at 5 AM.\n",
    "- **Morning (6-11 AM)**: There is a significant increase in the number of orders, peaking sharply at 9 AM with 35,896 orders, and maintaining high levels through the late morning hours.\n",
    "- **Midday to Early Afternoon (12-4 PM)**: The number of orders remains consistently high, ranging between 38,034 and 39,789 orders.\n",
    "- **Late Afternoon to Early Evening (5-8 PM)**: The order count begins to decline, with a noticeable drop starting around 5 PM and continuing through to 8 PM.\n",
    "- **Night (9-11 PM)**: The number of orders continues to decrease steadily, ending with 5,611 orders at 11 PM.\n",
    "\n",
    "Overall, the peak hours for order placement are between 8 AM and 5 PM, indicating that customers are most active during traditional working hours and the early evening. This pattern can help in planning resources and optimizing operations to handle peak order times effectively.\n"
   ]
  },
  {
   "cell_type": "markdown",
   "id": "f892f6bd",
   "metadata": {},
   "source": [
    "[Back to Contents](#back)"
   ]
  },
  {
   "cell_type": "markdown",
   "id": "46443ccc",
   "metadata": {},
   "source": [
    "## 2.3.2 Orders by Day of the week <a id='da_order_dow'></a>"
   ]
  },
  {
   "cell_type": "code",
   "execution_count": 57,
   "id": "d0b51071",
   "metadata": {
    "scrolled": true
   },
   "outputs": [
    {
     "data": {
      "text/plain": [
       "order_dow\n",
       "Sunday       84090\n",
       "Monday       82185\n",
       "Tuesday      65833\n",
       "Wednesday    60897\n",
       "Thursday     59810\n",
       "Friday       63488\n",
       "Saturday     62649\n",
       "Name: count, dtype: int64"
      ]
     },
     "execution_count": 57,
     "metadata": {},
     "output_type": "execute_result"
    }
   ],
   "source": [
    "df_insor['order_dow'].value_counts().sort_index()"
   ]
  },
  {
   "cell_type": "markdown",
   "id": "d56d299d",
   "metadata": {},
   "source": [
    "### Number of Orders Placed by Day of the Week - Bar Chart <a id='da_order_dow_bar'></a>"
   ]
  },
  {
   "cell_type": "code",
   "execution_count": 58,
   "id": "00672ac9",
   "metadata": {},
   "outputs": [
    {
     "data": {
      "image/png": "[encoded data removed]",
      "text/plain": [
       "<Figure size 1000x600 with 1 Axes>"
      ]
     },
     "metadata": {},
     "output_type": "display_data"
    }
   ],
   "source": [
    "import pandas as pd\n",
    "import matplotlib.pyplot as plt\n",
    "\n",
    "# Count the number of orders for each day of the week\n",
    "order_counts_dow = df_insor['order_dow'].value_counts().sort_index()\n",
    "\n",
    "# Define labels for days of the week\n",
    "days_of_week = ['Sunday', 'Monday', 'Tuesday', 'Wednesday', 'Thursday', 'Friday', 'Saturday']\n",
    "\n",
    "# Create a color list for days of the week\n",
    "colors = ['b', 'b', 'c', 'c', 'c', 'c', 'c']  # Adjust colors as desired\n",
    "\n",
    "# Plot the counts\n",
    "plt.figure(figsize=(10, 6))\n",
    "order_counts_dow.plot(kind='bar', color=colors)  # Use the color list\n",
    "\n",
    "plt.xlabel('Day of the Week')\n",
    "plt.ylabel('Number of Orders')\n",
    "plt.title('Number of Orders Placed by Day of the Week')\n",
    "plt.xticks(ticks=range(7), labels=days_of_week, rotation=0)\n",
    "plt.grid(axis='y')\n",
    "plt.show()"
   ]
  },
  {
   "cell_type": "markdown",
   "id": "73e2783e",
   "metadata": {},
   "source": [
    "## Conclusion: Orders Placed by Day of the Week <a id='da_order_dow_conclusion'></a>\n",
    "The bar chart illustrates the number of orders placed each day of the week, with 'Sunday' representing day 0. The x-axis denotes the days of the week, while the y-axis represents the number of orders.\n",
    "\n",
    "I observed that the dataset does not explicitly indicate which number corresponds to which day of the week, making it impossible to determine the days based solely on the data. However, I assumed that 0 represents Sunday for the following reasons:\n",
    "\n",
    "1. It is common practice in systems that use numbers to represent the days of the week to use 0 for Sunday.\n",
    "2. Analyzing the data, I noted that day 0 had a high number of orders. Given that Sunday is often associated with increased grocery shopping, it seemed reasonable that Sunday would have this volume of orders rather than Monday.\n",
    "\n",
    "This assumption was made based on the data and common practices. I acknowledge that this is not certain and could be revisited or further investigated if additional information regarding the data becomes available in the future. Therefore, I proceeded with the assumption that 0 corresponds to Sunday, 1 to Monday, and so on.\n",
    "\n",
    "The data reveals the following order counts for each day of the week:\n",
    "\n",
    "- **Sunday (0)** has the highest order count of 84,090, indicating a significant portion of orders placed at the beginning of the week.\n",
    "- **Monday (1)** follows closely behind, with 82,185 orders, suggesting continued high shopping activity.\n",
    "- **Tuesday (2)** shows a decrease in order count compared to Monday, with 65,833 orders.\n",
    "- **Wednesday (3)** and **Thursday (4)** continue the decreasing trend, with 60,897 and 59,810 orders, respectively, indicating a decline in mid-week shopping.\n",
    "- **Friday (5)** sees a slight increase in order count compared to Thursday, with 63,488 orders.\n",
    "- **Saturday (6)** has a similar order count to Friday, with 62,649 orders, suggesting consistent shopping activity towards the end of the week.\n",
    "\n",
    "This analysis provides insights into the distribution of orders throughout the week, highlighting potential shopping patterns based on the assumed mapping of days.\n"
   ]
  },
  {
   "cell_type": "markdown",
   "id": "1e781457",
   "metadata": {},
   "source": [
    "[Back to Contents](#back)"
   ]
  },
  {
   "cell_type": "markdown",
   "id": "aa77e369",
   "metadata": {},
   "source": [
    "## 2.3.3 Days Until Next Order - Bar and Density Plot <a id='da_next_order_bar_density'></a>"
   ]
  },
  {
   "cell_type": "code",
   "execution_count": 59,
   "id": "0075bf30",
   "metadata": {},
   "outputs": [
    {
     "data": {
      "image/png": "[encoded data removed]",
      "text/plain": [
       "<Figure size 1000x600 with 1 Axes>"
      ]
     },
     "metadata": {},
     "output_type": "display_data"
    },
    {
     "name": "stdout",
     "output_type": "stream",
     "text": [
      "The minimum number of days until the next order is: 0.0\n",
      "The maximum number of days until the next order is: 30.0\n"
     ]
    }
   ],
   "source": [
    "days_since_prior_order = df_insor['days_since_prior_order']\n",
    "\n",
    "# Create the bar plot\n",
    "plt.figure(figsize=(10, 6))\n",
    "days_count = days_since_prior_order.value_counts().sort_index()\n",
    "days_count.index = days_count.index.astype(int)  # Convert index to integers\n",
    "days_count.plot(kind='bar', color='blue', edgecolor='black', alpha=0.7)\n",
    "\n",
    "plt.xlabel('Days Since Prior Order')\n",
    "plt.ylabel('Frequency')\n",
    "plt.title('Bar Plot of Days Until Next Order')\n",
    "plt.grid(axis='y')\n",
    "plt.show()\n",
    "\n",
    "# Display minimum and maximum values\n",
    "min_days = days_since_prior_order.min()\n",
    "max_days = days_since_prior_order.max()\n",
    "\n",
    "print(f\"The minimum number of days until the next order is: {min_days}\")\n",
    "print(f\"The maximum number of days until the next order is: {max_days}\")"
   ]
  },
  {
   "cell_type": "markdown",
   "id": "2dfbc79e",
   "metadata": {},
   "source": [
    "### Frequency of Orders Based on Days Since Prior Order\n",
    "\n",
    "- The blue bars in the plot represent the frequency of orders based on the number of days since the prior order.\n",
    "- Peaks in the bar plot indicate common intervals between consecutive orders, offering insights into ordering patterns and customer behavior.\n",
    "\n",
    "This visualization provides a clear overview of how often customers place orders after a certain number of days, helping businesses understand the typical timeframes between purchases. Peaks in the bar plot suggest popular intervals, which can be useful for inventory management and marketing strategies.\n",
    "\n",
    "By focusing on the frequency of orders, this plot highlights the distribution of intervals between purchases, offering valuable insights for businesses looking to optimize their operations and customer engagement strategies.\n",
    "intervals.\n"
   ]
  },
  {
   "cell_type": "markdown",
   "id": "6d592c0d",
   "metadata": {},
   "source": [
    "[Back to Contents](#back)"
   ]
  },
  {
   "cell_type": "markdown",
   "id": "72cf4037",
   "metadata": {},
   "source": [
    "### Combined Bar and Density Plot <a id='da_next_order_bar_density_comb'></a>"
   ]
  },
  {
   "cell_type": "code",
   "execution_count": 60,
   "id": "23cedf63",
   "metadata": {},
   "outputs": [
    {
     "data": {
      "image/png": "[encoded data removed]",
      "text/plain": [
       "<Figure size 1200x600 with 2 Axes>"
      ]
     },
     "metadata": {},
     "output_type": "display_data"
    }
   ],
   "source": [
    "import matplotlib.pyplot as plt\n",
    "import seaborn as sns\n",
    "\n",
    "# Create the bar plot\n",
    "plt.figure(figsize=(12, 6))\n",
    "days_count = df_insor['days_since_prior_order'].value_counts().sort_index()\n",
    "days_count.plot(kind='bar', color='blue', edgecolor='black', alpha=0.7, label='Frequency')\n",
    "plt.ylabel('Number of Orders', color='blue')\n",
    "\n",
    "# Create a second y-axis for the density plot\n",
    "plt.twinx()\n",
    "\n",
    "# Create the density plot\n",
    "sns.kdeplot(df_insor['days_since_prior_order'], fill=True, color='orange', label='Density')\n",
    "\n",
    "plt.ylabel('Density', color='orange')\n",
    "plt.title('Bar and Density Plot of Days Until Next Order')\n",
    "plt.grid(axis='y')\n",
    "\n",
    "# Set x-axis ticks to integers\n",
    "plt.xticks(range(len(days_count.index)), map(int, days_count.index))\n",
    "\n",
    "# Create a legend for both Frequency (in blue) and Density (in red)\n",
    "blue_patch = plt.Line2D([0], [0], color='blue', linewidth=3, label='Number of Orders')\n",
    "red_patch = plt.Line2D([0], [0], color='orange', linewidth=3, label='Density')\n",
    "plt.legend(handles=[blue_patch, red_patch], loc='upper left')\n",
    "\n",
    "plt.show()\n"
   ]
  },
  {
   "cell_type": "markdown",
   "id": "8a658c08",
   "metadata": {},
   "source": [
    "### Combined Bar and Density Plot\n",
    "\n",
    "Combining the bar plot of frequency and the density plot in a single visualization provides a comprehensive view of the distribution of days until the next order. The bar plot shows the exact counts of days, giving a clear picture of how many orders fall into each day category. On the other hand, the density plot gives a smooth curve representing the distribution pattern, showing where the peaks and valleys are in the data.\n",
    "\n",
    "By combining these plots, we can easily compare the actual counts of orders for each day with the overall distribution pattern. This can help in understanding not just how many orders fall into each day category, but also how these counts compare to the overall trend of days between orders. For example, if there are many orders on a specific day but the density plot shows that this day is not a peak in the distribution, it could indicate an anomaly worth investigating.\n"
   ]
  },
  {
   "cell_type": "markdown",
   "id": "2379b75c",
   "metadata": {},
   "source": [
    "## Conclusion <a id='da_next_order_conclusion'></a>\n",
    "\n",
    "The analysis of the days until the next order reveals a notable pattern: there is a significant spike in repeat orders on the 30th day. Prior to this, the concentration of repeat orders shows a relatively steady decline from the 9th to the 29th day.\n",
    "\n",
    "**Key insights include:**\n",
    "\n",
    "- Consumers, or possibly institutions, are likely placing regular monthly orders.\n",
    "- The peak on the 30th day may represent a central point for return rates beyond this day.\n",
    "- Identifying this pattern can help in predicting order cycles and optimizing inventory management.\n",
    "\n",
    "With more precise data, we can develop more informed recommendations and further leverage this valuable insight.\n"
   ]
  },
  {
   "cell_type": "markdown",
   "id": "d52cef9c",
   "metadata": {},
   "source": [
    "[Back to Contents](#back)"
   ]
  },
  {
   "cell_type": "markdown",
   "id": "faff0877",
   "metadata": {},
   "source": [
    "---"
   ]
  },
  {
   "cell_type": "markdown",
   "id": "af30e2cf",
   "metadata": {},
   "source": [
    "## <u>2.4 Ploting Data - Medium</u> <a id='da_ploting_data_med'></a>"
   ]
  },
  {
   "cell_type": "markdown",
   "id": "ecfd62c1",
   "metadata": {},
   "source": [
    "## 2.4.1 Compering Wednesdays & Saturdays Distributions <a id='da_wed_sat'></a>\n",
    "### Filtering the dataset for orders placed on Wednesdays and Saturdays"
   ]
  },
  {
   "cell_type": "code",
   "execution_count": 61,
   "id": "1a6b7d3c",
   "metadata": {},
   "outputs": [
    {
     "name": "stdout",
     "output_type": "stream",
     "text": [
      "Wednesday Orders:\n",
      "    order_id  user_id  order_number  order_dow  order_hour_of_day  \\\n",
      "6    2511640   148233            40  Wednesday                  8   \n",
      "16   3109465    55090            19  Wednesday                 15   \n",
      "28    133707   182261             1  Wednesday                 10   \n",
      "30   1890318   193501             3  Wednesday                 15   \n",
      "35    125325   106853             6  Wednesday                 19   \n",
      "\n",
      "    days_since_prior_order  \n",
      "6                      2.0  \n",
      "16                     9.0  \n",
      "28                     8.0  \n",
      "30                    30.0  \n",
      "35                    30.0  \n",
      "\n",
      "Saturday Orders:\n",
      "    order_id  user_id  order_number order_dow  order_hour_of_day  \\\n",
      "0    1515936   183418            11  Saturday                 13   \n",
      "11    102585   191558            18  Saturday                 16   \n",
      "14   2843219    74699             4  Saturday                 11   \n",
      "20     50934   178510             9  Saturday                  9   \n",
      "26   1844247   122558             4  Saturday                 18   \n",
      "\n",
      "    days_since_prior_order  \n",
      "0                     30.0  \n",
      "11                     8.0  \n",
      "14                    30.0  \n",
      "20                     5.0  \n",
      "26                    30.0  \n"
     ]
    }
   ],
   "source": [
    "# Filter for orders placed on Wednesdays and Saturdays\n",
    "df_wednesday = df_insor[df_insor['order_dow'] == 'Wednesday']\n",
    "df_saturday = df_insor[df_insor['order_dow'] == 'Saturday']\n",
    "\n",
    "# Display the first few rows of each filtered dataset\n",
    "print(\"Wednesday Orders:\")\n",
    "print(df_wednesday.head())\n",
    "\n",
    "print(\"\\nSaturday Orders:\")\n",
    "print(df_saturday.head())"
   ]
  },
  {
   "cell_type": "markdown",
   "id": "f2f1f907",
   "metadata": {},
   "source": [
    "[Back to Contents](#back)"
   ]
  },
  {
   "cell_type": "markdown",
   "id": "6e71202d",
   "metadata": {},
   "source": [
    "###  `order_hour_of_day` for Wednesdays & Saturdays - Histograms <a id='da_wed_sat_hist'></a>"
   ]
  },
  {
   "cell_type": "code",
   "execution_count": 62,
   "id": "de07900d",
   "metadata": {},
   "outputs": [
    {
     "data": {
      "image/png": "[encoded data removed]",
      "text/plain": [
       "<Figure size 1200x600 with 1 Axes>"
      ]
     },
     "metadata": {},
     "output_type": "display_data"
    }
   ],
   "source": [
    "import matplotlib.pyplot as plt\n",
    "import seaborn as sns\n",
    "\n",
    "# Define modern colors\n",
    "colors = sns.color_palette('pastel', 2)\n",
    "\n",
    "# Mild Blue\n",
    "mild_blue = (0.35, 0.5, 0.75)  # RGB values for a mild blue\n",
    "\n",
    "# Plot histograms for 'order_hour_of_day' for both days on the same plot\n",
    "plt.figure(figsize=(12, 6))\n",
    "\n",
    "# Histogram for Wednesday orders\n",
    "plt.hist(df_wednesday['order_hour_of_day'], bins=24, alpha=0.7, label='Wednesday', color=mild_blue, edgecolor='lightblue')\n",
    "\n",
    "# Histogram for Saturday orders\n",
    "plt.hist(df_saturday['order_hour_of_day'], bins=24, alpha=0.5, label='Saturday', color='lightgreen', edgecolor='lightgreen')\n",
    "\n",
    "# Add labels and title\n",
    "plt.xlabel('Hour of Day')\n",
    "plt.ylabel('Number of Orders')\n",
    "plt.title('Distribution of Orders by Hour of Day on Wednesdays and Saturdays')\n",
    "plt.legend(loc='upper right')\n",
    "\n",
    "# Set x-axis ticks and labels\n",
    "ticks = [0, 4, 8, 12, 16, 20, 23]\n",
    "labels = [f\"{hour} AM\" if hour < 12 else f\"{hour if hour != 12 else 12} PM\" for hour in ticks]\n",
    "plt.xticks(ticks, labels)\n",
    "\n",
    "# Make grid lines less prominent\n",
    "plt.grid(alpha=0.3)\n",
    "\n",
    "# Show the plot\n",
    "plt.show()"
   ]
  },
  {
   "cell_type": "markdown",
   "id": "3c72cf35",
   "metadata": {},
   "source": [
    "### Order Hour Distributions on Wednesdays and Saturdays\n",
    "\n",
    "Based on the provided summary statistics for Wednesdays and Saturdays, the distributions of order hours exhibit the following characteristics:\n",
    "\n",
    "1. **Peak Hours**:\n",
    "   - Wednesdays: The peak hour for orders is 15:00 (3 PM).\n",
    "   - Saturdays: The peak hour for orders is 14:00 (2 PM).\n",
    "   - Both days have a similar peak hour, with Saturday's peak slightly earlier than Wednesday's.\n",
    "<br><br>\n",
    "2. **Early Morning and Late Night Orders**:\n",
    "   - Both days show a decrease in orders during the early morning hours (midnight to 6 AM), with less than 500 orders per hour.\n",
    "   - There is a slight increase in orders around 7 AM, with an estimated 700 orders for Wednesday.\n",
    "   - Order volume rises evenly throughout the day, reaching the peak hours around 10 AM.\n",
    "<br><br>\n",
    "3. **Evening Orders**:\n",
    "   - Both days experience a decline in orders starting from 4 PM onwards.\n",
    "   - There is a notable decrease in orders during the late evening and night hours (after 8 PM).\n",
    "<br><br>\n",
    "4. **Shape of Distributions**:\n",
    "   - Both distributions show a gradual increase in order volume from early morning to peak hours, followed by a decline towards late evening.\n",
    "   - While the overall shapes of the distributions are similar between Wednesdays and Saturdays, Saturdays may have a slightly higher overall order volume, particularly during peak and late evening hours.\n",
    "<br><br>\n",
    "5. **Overall Volume of Orders**:\n",
    "   - Saturdays tend to have a slightly higher volume of orders compared to Wednesdays, particularly during peak and late evening hours."
   ]
  },
  {
   "cell_type": "markdown",
   "id": "b940ad7c",
   "metadata": {},
   "source": [
    "[Back to Contents](#back)"
   ]
  },
  {
   "cell_type": "markdown",
   "id": "b180aa4e",
   "metadata": {},
   "source": [
    "### 2.4.2 Distribution of Number of Order Placed by Customers - Bar Plot <a id='da_dis_ord_cust_plot'></a>"
   ]
  },
  {
   "cell_type": "code",
   "execution_count": 63,
   "id": "3d223fb8",
   "metadata": {},
   "outputs": [
    {
     "data": {
      "image/png": "[encoded data removed]",
      "text/plain": [
       "<Figure size 1200x600 with 1 Axes>"
      ]
     },
     "metadata": {},
     "output_type": "display_data"
    }
   ],
   "source": [
    "# Group orders by 'user_id' and count the number of orders for each user\n",
    "order_counts = df_insor.groupby('user_id')['order_number'].max().value_counts().sort_index()\n",
    "\n",
    "# Define a darker shade of yellow\n",
    "color_yellow_dark = '#FFD700'  # Darker shade of yellow\n",
    "\n",
    "# Plot the distribution\n",
    "plt.figure(figsize=(12, 6))\n",
    "plt.bar(order_counts.index, order_counts.values, color=color_yellow_dark)\n",
    "plt.xlabel('Number of Orders')\n",
    "plt.ylabel('Number of Customers')\n",
    "plt.title('Distribution of Number of Orders per Customer')\n",
    "plt.grid(axis='y', linestyle='--', alpha=0.7)\n",
    "plt.show()\n"
   ]
  },
  {
   "cell_type": "code",
   "execution_count": 64,
   "id": "592ed78e",
   "metadata": {
    "scrolled": true
   },
   "outputs": [
    {
     "name": "stdout",
     "output_type": "stream",
     "text": [
      "    Number of Orders  Number of Customers\n",
      "0                  1                 7840\n",
      "1                  2                 9113\n",
      "2                  3                10510\n",
      "3                  4                12368\n",
      "4                  5                10406\n",
      "..               ...                  ...\n",
      "95                96                  133\n",
      "96                97                  173\n",
      "97                98                  148\n",
      "98                99                  143\n",
      "99               100                  194\n",
      "\n",
      "[100 rows x 2 columns]\n"
     ]
    }
   ],
   "source": [
    "# Group orders by 'user_id' and count the number of orders for each user\n",
    "order_counts = df_insor.groupby('user_id')['order_number'].max().value_counts().sort_index()\n",
    "\n",
    "# Convert the Series to a DataFrame for easier manipulation\n",
    "order_counts_df = order_counts.reset_index()\n",
    "order_counts_df.columns = ['Number of Orders', 'Number of Customers']\n",
    "\n",
    "# Print the DataFrame\n",
    "print(order_counts_df)\n"
   ]
  },
  {
   "cell_type": "markdown",
   "id": "cf1c7759",
   "metadata": {},
   "source": [
    "### Distribution of Number of Orders per Customer <a id='da_dis_ord_cust'></a>\n",
    "\n",
    "#### Plot Explanation:\n",
    "The plot illustrates the distribution of the number of orders per customer on the Instacart app. Each bar represents a different number of orders, ranging from 1 to 100. The x-axis shows the number of orders, while the y-axis indicates the number of customers who placed that many orders. The plot highlights the trend of customer behavior regarding order frequency, showcasing how many customers placed a specific number of orders.\n",
    "\n",
    "#### DataFrame Explanation:\n",
    "The DataFrame provides a tabular representation of the distribution shown in the plot. Each row corresponds to a group of customers who placed the same number of orders. The \"Number of Orders\" column displays the specific number of orders, while the \"Number of Customers\" column indicates how many customers belong to each group. For instance, the DataFrame indicates that 7,840 customers placed only 1 order, 9,113 customers placed 2 orders, and so on, up to 194 customers who placed 100 orders. The DataFrame offers a detailed breakdown of customer behavior regarding order frequency, showcasing the exact counts for each group of customers.\n"
   ]
  },
  {
   "cell_type": "markdown",
   "id": "e2e89b3f",
   "metadata": {},
   "source": [
    "[Back to Contents](#back)"
   ]
  },
  {
   "cell_type": "markdown",
   "id": "11588ecd",
   "metadata": {},
   "source": [
    "### 2.4.3 Top 20 Most Frequently Ordered Products <a id='da_most_freq'></a>\n",
    "### Merging `order_products` and `products` Datasets"
   ]
  },
  {
   "cell_type": "code",
   "execution_count": 65,
   "id": "9ce0d621",
   "metadata": {},
   "outputs": [
    {
     "data": {
      "text/html": [
       "<div>\n",
       "<style scoped>\n",
       "    .dataframe tbody tr th:only-of-type {\n",
       "        vertical-align: middle;\n",
       "    }\n",
       "\n",
       "    .dataframe tbody tr th {\n",
       "        vertical-align: top;\n",
       "    }\n",
       "\n",
       "    .dataframe thead th {\n",
       "        text-align: right;\n",
       "    }\n",
       "</style>\n",
       "<table border=\"1\" class=\"dataframe\">\n",
       "  <thead>\n",
       "    <tr style=\"text-align: right;\">\n",
       "      <th></th>\n",
       "      <th>order_id</th>\n",
       "      <th>product_id</th>\n",
       "      <th>add_to_cart_order</th>\n",
       "      <th>reordered</th>\n",
       "      <th>product_name</th>\n",
       "      <th>aisle_id</th>\n",
       "      <th>department_id</th>\n",
       "    </tr>\n",
       "  </thead>\n",
       "  <tbody>\n",
       "    <tr>\n",
       "      <th>0</th>\n",
       "      <td>2141543</td>\n",
       "      <td>11440</td>\n",
       "      <td>17.0</td>\n",
       "      <td>0</td>\n",
       "      <td>Chicken Breast Tenders Breaded</td>\n",
       "      <td>129</td>\n",
       "      <td>1</td>\n",
       "    </tr>\n",
       "    <tr>\n",
       "      <th>1</th>\n",
       "      <td>147172</td>\n",
       "      <td>11440</td>\n",
       "      <td>7.0</td>\n",
       "      <td>1</td>\n",
       "      <td>Chicken Breast Tenders Breaded</td>\n",
       "      <td>129</td>\n",
       "      <td>1</td>\n",
       "    </tr>\n",
       "    <tr>\n",
       "      <th>2</th>\n",
       "      <td>3341719</td>\n",
       "      <td>11440</td>\n",
       "      <td>4.0</td>\n",
       "      <td>1</td>\n",
       "      <td>Chicken Breast Tenders Breaded</td>\n",
       "      <td>129</td>\n",
       "      <td>1</td>\n",
       "    </tr>\n",
       "    <tr>\n",
       "      <th>3</th>\n",
       "      <td>1938779</td>\n",
       "      <td>11440</td>\n",
       "      <td>8.0</td>\n",
       "      <td>1</td>\n",
       "      <td>Chicken Breast Tenders Breaded</td>\n",
       "      <td>129</td>\n",
       "      <td>1</td>\n",
       "    </tr>\n",
       "    <tr>\n",
       "      <th>4</th>\n",
       "      <td>1728338</td>\n",
       "      <td>11440</td>\n",
       "      <td>23.0</td>\n",
       "      <td>0</td>\n",
       "      <td>Chicken Breast Tenders Breaded</td>\n",
       "      <td>129</td>\n",
       "      <td>1</td>\n",
       "    </tr>\n",
       "  </tbody>\n",
       "</table>\n",
       "</div>"
      ],
      "text/plain": [
       "   order_id  product_id  add_to_cart_order  reordered  \\\n",
       "0   2141543       11440               17.0          0   \n",
       "1    147172       11440                7.0          1   \n",
       "2   3341719       11440                4.0          1   \n",
       "3   1938779       11440                8.0          1   \n",
       "4   1728338       11440               23.0          0   \n",
       "\n",
       "                     product_name  aisle_id  department_id  \n",
       "0  Chicken Breast Tenders Breaded       129              1  \n",
       "1  Chicken Breast Tenders Breaded       129              1  \n",
       "2  Chicken Breast Tenders Breaded       129              1  \n",
       "3  Chicken Breast Tenders Breaded       129              1  \n",
       "4  Chicken Breast Tenders Breaded       129              1  "
      ]
     },
     "execution_count": 65,
     "metadata": {},
     "output_type": "execute_result"
    }
   ],
   "source": [
    "# Merge df_orpro and df_pro on 'product_id'\n",
    "merged_data = pd.merge(df_orpro, df_pro, on='product_id')\n",
    "\n",
    "# Display the first few rows of the merged data to verify the merge\n",
    "merged_data.head()\n"
   ]
  },
  {
   "cell_type": "markdown",
   "id": "6082c9ce",
   "metadata": {},
   "source": [
    "### Counting and Sorting the frequency of each product"
   ]
  },
  {
   "cell_type": "code",
   "execution_count": 66,
   "id": "a92be347",
   "metadata": {},
   "outputs": [
    {
     "data": {
      "text/html": [
       "<div>\n",
       "<style scoped>\n",
       "    .dataframe tbody tr th:only-of-type {\n",
       "        vertical-align: middle;\n",
       "    }\n",
       "\n",
       "    .dataframe tbody tr th {\n",
       "        vertical-align: top;\n",
       "    }\n",
       "\n",
       "    .dataframe thead th {\n",
       "        text-align: right;\n",
       "    }\n",
       "</style>\n",
       "<table border=\"1\" class=\"dataframe\">\n",
       "  <thead>\n",
       "    <tr style=\"text-align: right;\">\n",
       "      <th></th>\n",
       "      <th>product_name</th>\n",
       "      <th>count</th>\n",
       "    </tr>\n",
       "  </thead>\n",
       "  <tbody>\n",
       "    <tr>\n",
       "      <th>0</th>\n",
       "      <td>Banana</td>\n",
       "      <td>66050</td>\n",
       "    </tr>\n",
       "    <tr>\n",
       "      <th>1</th>\n",
       "      <td>Bag of Organic Bananas</td>\n",
       "      <td>53297</td>\n",
       "    </tr>\n",
       "    <tr>\n",
       "      <th>2</th>\n",
       "      <td>Organic Strawberries</td>\n",
       "      <td>37039</td>\n",
       "    </tr>\n",
       "    <tr>\n",
       "      <th>3</th>\n",
       "      <td>Organic Baby Spinach</td>\n",
       "      <td>33971</td>\n",
       "    </tr>\n",
       "    <tr>\n",
       "      <th>4</th>\n",
       "      <td>Organic Hass Avocado</td>\n",
       "      <td>29773</td>\n",
       "    </tr>\n",
       "  </tbody>\n",
       "</table>\n",
       "</div>"
      ],
      "text/plain": [
       "             product_name  count\n",
       "0                  Banana  66050\n",
       "1  Bag of Organic Bananas  53297\n",
       "2    Organic Strawberries  37039\n",
       "3    Organic Baby Spinach  33971\n",
       "4    Organic Hass Avocado  29773"
      ]
     },
     "execution_count": 66,
     "metadata": {},
     "output_type": "execute_result"
    }
   ],
   "source": [
    "# Count the frequency of each product\n",
    "product_counts = merged_data['product_name'].value_counts().reset_index()\n",
    "product_counts.columns = ['product_name', 'count']\n",
    "\n",
    "# Display the first few rows of the product counts\n",
    "product_counts.head()"
   ]
  },
  {
   "cell_type": "code",
   "execution_count": 67,
   "id": "1be90922",
   "metadata": {
    "scrolled": true
   },
   "outputs": [
    {
     "data": {
      "text/html": [
       "<div>\n",
       "<style scoped>\n",
       "    .dataframe tbody tr th:only-of-type {\n",
       "        vertical-align: middle;\n",
       "    }\n",
       "\n",
       "    .dataframe tbody tr th {\n",
       "        vertical-align: top;\n",
       "    }\n",
       "\n",
       "    .dataframe thead th {\n",
       "        text-align: right;\n",
       "    }\n",
       "</style>\n",
       "<table border=\"1\" class=\"dataframe\">\n",
       "  <thead>\n",
       "    <tr style=\"text-align: right;\">\n",
       "      <th></th>\n",
       "      <th>product_name</th>\n",
       "      <th>count</th>\n",
       "    </tr>\n",
       "  </thead>\n",
       "  <tbody>\n",
       "    <tr>\n",
       "      <th>44609</th>\n",
       "      <td>Fudge Covered Coconut Dreams Cookies</td>\n",
       "      <td>1</td>\n",
       "    </tr>\n",
       "    <tr>\n",
       "      <th>44610</th>\n",
       "      <td>Antibacterial Spray</td>\n",
       "      <td>1</td>\n",
       "    </tr>\n",
       "    <tr>\n",
       "      <th>44611</th>\n",
       "      <td>Roasted Vegetable Crackers</td>\n",
       "      <td>1</td>\n",
       "    </tr>\n",
       "    <tr>\n",
       "      <th>44612</th>\n",
       "      <td>California Ripe Pitted Extra Large Olives</td>\n",
       "      <td>1</td>\n",
       "    </tr>\n",
       "    <tr>\n",
       "      <th>44613</th>\n",
       "      <td>Egg Replacer Powder</td>\n",
       "      <td>1</td>\n",
       "    </tr>\n",
       "  </tbody>\n",
       "</table>\n",
       "</div>"
      ],
      "text/plain": [
       "                                    product_name  count\n",
       "44609       Fudge Covered Coconut Dreams Cookies      1\n",
       "44610                        Antibacterial Spray      1\n",
       "44611                 Roasted Vegetable Crackers      1\n",
       "44612  California Ripe Pitted Extra Large Olives      1\n",
       "44613                        Egg Replacer Powder      1"
      ]
     },
     "execution_count": 67,
     "metadata": {},
     "output_type": "execute_result"
    }
   ],
   "source": [
    "product_counts.tail()  # Bottom 5 products"
   ]
  },
  {
   "cell_type": "code",
   "execution_count": 68,
   "id": "1b36bd92",
   "metadata": {
    "scrolled": true
   },
   "outputs": [
    {
     "data": {
      "text/plain": [
       "count    44614.000000\n",
       "mean       101.874008\n",
       "std        709.112660\n",
       "min          1.000000\n",
       "25%          3.000000\n",
       "50%         11.000000\n",
       "75%         43.000000\n",
       "max      66050.000000\n",
       "Name: count, dtype: float64"
      ]
     },
     "execution_count": 68,
     "metadata": {},
     "output_type": "execute_result"
    }
   ],
   "source": [
    "product_counts['count'].describe()"
   ]
  },
  {
   "cell_type": "markdown",
   "id": "a30ec22d",
   "metadata": {},
   "source": [
    "[Back to Contents](#back)"
   ]
  },
  {
   "cell_type": "markdown",
   "id": "a392eaef",
   "metadata": {},
   "source": [
    "### Desplaying the top 20 Frequently Ordered Products"
   ]
  },
  {
   "cell_type": "code",
   "execution_count": 69,
   "id": "9258c6aa",
   "metadata": {},
   "outputs": [
    {
     "data": {
      "text/html": [
       "<div>\n",
       "<style scoped>\n",
       "    .dataframe tbody tr th:only-of-type {\n",
       "        vertical-align: middle;\n",
       "    }\n",
       "\n",
       "    .dataframe tbody tr th {\n",
       "        vertical-align: top;\n",
       "    }\n",
       "\n",
       "    .dataframe thead th {\n",
       "        text-align: right;\n",
       "    }\n",
       "</style>\n",
       "<table border=\"1\" class=\"dataframe\">\n",
       "  <thead>\n",
       "    <tr style=\"text-align: right;\">\n",
       "      <th></th>\n",
       "      <th>Rank</th>\n",
       "      <th>product_name</th>\n",
       "      <th>number_of_orders</th>\n",
       "    </tr>\n",
       "  </thead>\n",
       "  <tbody>\n",
       "    <tr>\n",
       "      <th>0</th>\n",
       "      <td>1</td>\n",
       "      <td>Banana</td>\n",
       "      <td>66050</td>\n",
       "    </tr>\n",
       "    <tr>\n",
       "      <th>1</th>\n",
       "      <td>2</td>\n",
       "      <td>Bag of Organic Bananas</td>\n",
       "      <td>53297</td>\n",
       "    </tr>\n",
       "    <tr>\n",
       "      <th>2</th>\n",
       "      <td>3</td>\n",
       "      <td>Organic Strawberries</td>\n",
       "      <td>37039</td>\n",
       "    </tr>\n",
       "    <tr>\n",
       "      <th>3</th>\n",
       "      <td>4</td>\n",
       "      <td>Organic Baby Spinach</td>\n",
       "      <td>33971</td>\n",
       "    </tr>\n",
       "    <tr>\n",
       "      <th>4</th>\n",
       "      <td>5</td>\n",
       "      <td>Organic Hass Avocado</td>\n",
       "      <td>29773</td>\n",
       "    </tr>\n",
       "    <tr>\n",
       "      <th>5</th>\n",
       "      <td>6</td>\n",
       "      <td>Organic Avocado</td>\n",
       "      <td>24689</td>\n",
       "    </tr>\n",
       "    <tr>\n",
       "      <th>6</th>\n",
       "      <td>7</td>\n",
       "      <td>Large Lemon</td>\n",
       "      <td>21495</td>\n",
       "    </tr>\n",
       "    <tr>\n",
       "      <th>7</th>\n",
       "      <td>8</td>\n",
       "      <td>Strawberries</td>\n",
       "      <td>20018</td>\n",
       "    </tr>\n",
       "    <tr>\n",
       "      <th>8</th>\n",
       "      <td>9</td>\n",
       "      <td>Limes</td>\n",
       "      <td>19690</td>\n",
       "    </tr>\n",
       "    <tr>\n",
       "      <th>9</th>\n",
       "      <td>10</td>\n",
       "      <td>Organic Whole Milk</td>\n",
       "      <td>19600</td>\n",
       "    </tr>\n",
       "    <tr>\n",
       "      <th>10</th>\n",
       "      <td>11</td>\n",
       "      <td>Organic Raspberries</td>\n",
       "      <td>19197</td>\n",
       "    </tr>\n",
       "    <tr>\n",
       "      <th>11</th>\n",
       "      <td>12</td>\n",
       "      <td>Organic Yellow Onion</td>\n",
       "      <td>15898</td>\n",
       "    </tr>\n",
       "    <tr>\n",
       "      <th>12</th>\n",
       "      <td>13</td>\n",
       "      <td>Organic Garlic</td>\n",
       "      <td>15292</td>\n",
       "    </tr>\n",
       "    <tr>\n",
       "      <th>13</th>\n",
       "      <td>14</td>\n",
       "      <td>Organic Zucchini</td>\n",
       "      <td>14584</td>\n",
       "    </tr>\n",
       "    <tr>\n",
       "      <th>14</th>\n",
       "      <td>15</td>\n",
       "      <td>Organic Blueberries</td>\n",
       "      <td>13879</td>\n",
       "    </tr>\n",
       "    <tr>\n",
       "      <th>15</th>\n",
       "      <td>16</td>\n",
       "      <td>Cucumber Kirby</td>\n",
       "      <td>13675</td>\n",
       "    </tr>\n",
       "    <tr>\n",
       "      <th>16</th>\n",
       "      <td>17</td>\n",
       "      <td>Organic Fuji Apple</td>\n",
       "      <td>12544</td>\n",
       "    </tr>\n",
       "    <tr>\n",
       "      <th>17</th>\n",
       "      <td>18</td>\n",
       "      <td>Organic Lemon</td>\n",
       "      <td>12232</td>\n",
       "    </tr>\n",
       "    <tr>\n",
       "      <th>18</th>\n",
       "      <td>19</td>\n",
       "      <td>Apple Honeycrisp Organic</td>\n",
       "      <td>11993</td>\n",
       "    </tr>\n",
       "    <tr>\n",
       "      <th>19</th>\n",
       "      <td>20</td>\n",
       "      <td>Organic Grape Tomatoes</td>\n",
       "      <td>11781</td>\n",
       "    </tr>\n",
       "  </tbody>\n",
       "</table>\n",
       "</div>"
      ],
      "text/plain": [
       "    Rank              product_name  number_of_orders\n",
       "0      1                    Banana             66050\n",
       "1      2    Bag of Organic Bananas             53297\n",
       "2      3      Organic Strawberries             37039\n",
       "3      4      Organic Baby Spinach             33971\n",
       "4      5      Organic Hass Avocado             29773\n",
       "5      6           Organic Avocado             24689\n",
       "6      7               Large Lemon             21495\n",
       "7      8              Strawberries             20018\n",
       "8      9                     Limes             19690\n",
       "9     10        Organic Whole Milk             19600\n",
       "10    11       Organic Raspberries             19197\n",
       "11    12      Organic Yellow Onion             15898\n",
       "12    13            Organic Garlic             15292\n",
       "13    14          Organic Zucchini             14584\n",
       "14    15       Organic Blueberries             13879\n",
       "15    16            Cucumber Kirby             13675\n",
       "16    17        Organic Fuji Apple             12544\n",
       "17    18             Organic Lemon             12232\n",
       "18    19  Apple Honeycrisp Organic             11993\n",
       "19    20    Organic Grape Tomatoes             11781"
      ]
     },
     "execution_count": 69,
     "metadata": {},
     "output_type": "execute_result"
    }
   ],
   "source": [
    "# Count the frequency of each product\n",
    "product_counts = merged_data['product_name'].value_counts().reset_index()\n",
    "product_counts.columns = ['product_name', 'count']\n",
    "\n",
    "# Sort the products based on frequency in descending order\n",
    "product_counts_sorted = product_counts.sort_values(by='count', ascending=False)\n",
    "\n",
    "# Reset the index to start from 1 for display purposes\n",
    "product_counts_sorted.reset_index(drop=True, inplace=True)\n",
    "product_counts_sorted.index += 1\n",
    "\n",
    "# Rename the 'count' column to 'number_of_orders'\n",
    "product_counts_sorted.rename(columns={'count': 'number_of_orders'}, inplace=True)\n",
    "\n",
    "# Reorder the columns\n",
    "product_counts_sorted = product_counts_sorted[['product_name', 'number_of_orders']]\n",
    "\n",
    "# Display the top 20 products\n",
    "top_20_products_with_ids = product_counts_sorted.head(20)\n",
    "top_20_products_with_ids.index.name = 'Rank'\n",
    "top_20_products_with_ids.reset_index(inplace=True)\n",
    "\n",
    "# Display the final DataFrame\n",
    "top_20_products_with_ids\n"
   ]
  },
  {
   "cell_type": "markdown",
   "id": "8390846b",
   "metadata": {},
   "source": [
    "[Back to Contents](#back)"
   ]
  },
  {
   "cell_type": "markdown",
   "id": "d8a984b9",
   "metadata": {},
   "source": [
    "### Top 20 Most Frequently Ordered Products - Bar Plot <a id='da_most_freq_bar'></a>"
   ]
  },
  {
   "cell_type": "code",
   "execution_count": 70,
   "id": "bb9c8031",
   "metadata": {},
   "outputs": [
    {
     "data": {
      "image/png": "[encoded data removed]",
      "text/plain": [
       "<Figure size 1200x800 with 1 Axes>"
      ]
     },
     "metadata": {},
     "output_type": "display_data"
    }
   ],
   "source": [
    "import matplotlib.pyplot as plt\n",
    "import seaborn as sns\n",
    "\n",
    "# Define a dictionary mapping products to their colors\n",
    "product_colors = {\n",
    "    'Banana': '#f7ca18',\n",
    "    'Bag of Organic Bananas': '#f4d03f',\n",
    "    'Organic Strawberries': '#e74c3c',\n",
    "    'Organic Baby Spinach': '#27ae60',\n",
    "    'Organic Hass Avocado': '#2ecc71',\n",
    "    'Organic Avocado': '#229954',\n",
    "    'Large Lemon': '#f4d03f',\n",
    "    'Strawberries': '#c0392b',\n",
    "    'Limes': '#7dcea0',\n",
    "    'Organic Whole Milk': '#ecf0f1',\n",
    "    'Organic Raspberries': '#c0392b',\n",
    "    'Organic Yellow Onion': '#f1c40f',\n",
    "    'Organic Garlic': '#bdc3c7',\n",
    "    'Organic Zucchini': '#2ecc71',\n",
    "    'Organic Blueberries': '#3498db',\n",
    "    'Cucumber Kirby': '#82e0aa',\n",
    "    'Organic Fuji Apple': '#e74c3c',\n",
    "    'Organic Lemon': '#f7ca18',\n",
    "    'Apple Honeycrisp Organic': '#e67e22',\n",
    "    'Organic Grape Tomatoes': '#f1948a'\n",
    "}\n",
    "\n",
    "# Create a list of colors corresponding to each product\n",
    "product_colors_list = [product_colors.get(product, 'gray') for product in top_20_products_with_ids['product_name']]\n",
    "\n",
    "# Create a bar plot with custom colors\n",
    "plt.figure(figsize=(12, 8))\n",
    "bars = plt.barh(top_20_products_with_ids['product_name'], \n",
    "                top_20_products_with_ids['number_of_orders'], \n",
    "                color=product_colors_list)\n",
    "plt.xlabel('Number of Orders')\n",
    "plt.ylabel('Product Name')\n",
    "plt.title('Top 20 Most Frequently Ordered Products')\n",
    "\n",
    "# Add a legend for the colors\n",
    "handles = [plt.Rectangle((0,0),1,1, color=color) for color in product_colors.values()]\n",
    "plt.legend(handles, product_colors.keys(), loc='lower right')\n",
    "plt.gca().invert_yaxis()  # Invert y-axis to show the most ordered\n"
   ]
  },
  {
   "cell_type": "markdown",
   "id": "45264ffb",
   "metadata": {},
   "source": [
    "## Conclusion: Top 20 Most Frequently Ordered Products <a id='da_most_freq_conclusion'></a>\n",
    "\n",
    "The analysis of the top 20 most frequently ordered products reveals interesting insights into consumer preferences. \n",
    "\n",
    "1. **Bananas** are the most ordered product, with a significantly higher number of orders compared to other products. This could be attributed to their popularity as a staple food item and their versatility in recipes.\n",
    "\n",
    "2. **Bag of Organic Bananas** and **Organic Strawberries** are the next most ordered products, indicating a preference for organic and healthy options among consumers.\n",
    "\n",
    "3. **Organic Baby Spinach** and **Organic Hass Avocado** also rank high in the list, reflecting a trend towards healthier eating habits.\n",
    "\n",
    "4. **Organic Avocado** and **Large Lemon** are also popular choices, possibly due to their use in various dishes and beverages.\n",
    "\n",
    "5. Interestingly, **Strawberries** and **Limes** are also among the top 10 most ordered products, indicating a preference for fruits that can be used in both sweet and savory dishes.\n",
    "\n",
    "6. The use of colors in the plot, with each product represented by a different color, adds visual appeal and makes it easier to distinguish between products. The choice of colors was inspired by the natural colors of the products themselves, such as yellow for bananas and red for strawberries, adding a fun and engaging element to the visualization.\n",
    "\n",
    "Overall, the analysis highlights the importance of product variety, freshness, and health consciousness among consumers, as reflected in their choices of frequently ordered products.\n"
   ]
  },
  {
   "cell_type": "markdown",
   "id": "c531d794",
   "metadata": {},
   "source": [
    "[Back to Contents](#back)"
   ]
  },
  {
   "cell_type": "markdown",
   "id": "3fcce790",
   "metadata": {},
   "source": [
    "---"
   ]
  },
  {
   "cell_type": "markdown",
   "id": "41140e54",
   "metadata": {},
   "source": [
    "## <u>2.5 Ploting Data - Hard</u> <a id='da_ploting_data_hard'></a>"
   ]
  },
  {
   "cell_type": "markdown",
   "id": "c6ab5889",
   "metadata": {},
   "source": [
    "## 2.5.1 Items people typically buy in one order <a id='da_one_order'></a>\n",
    "### Data Preparation"
   ]
  },
  {
   "cell_type": "code",
   "execution_count": 71,
   "id": "67422d7f",
   "metadata": {},
   "outputs": [],
   "source": [
    "# Merge the order_products and instacart_orders datasets\n",
    "merged_df = pd.merge(df_orpro, df_insor, on='order_id')\n",
    "\n",
    "# Drop any unnecessary columns\n",
    "merged_df.drop(columns=['product_id', 'reordered', 'user_id', 'order_number', 'order_dow', 'order_hour_of_day', 'days_since_prior_order'], inplace=True)\n",
    "\n",
    "# Group by order_id and count the number of items in each order\n",
    "total_items_per_order = merged_df.groupby('order_id').size().reset_index(name='total_items_in_order')"
   ]
  },
  {
   "cell_type": "code",
   "execution_count": 72,
   "id": "7f63fe20",
   "metadata": {},
   "outputs": [
    {
     "data": {
      "text/html": [
       "<div>\n",
       "<style scoped>\n",
       "    .dataframe tbody tr th:only-of-type {\n",
       "        vertical-align: middle;\n",
       "    }\n",
       "\n",
       "    .dataframe tbody tr th {\n",
       "        vertical-align: top;\n",
       "    }\n",
       "\n",
       "    .dataframe thead th {\n",
       "        text-align: right;\n",
       "    }\n",
       "</style>\n",
       "<table border=\"1\" class=\"dataframe\">\n",
       "  <thead>\n",
       "    <tr style=\"text-align: right;\">\n",
       "      <th></th>\n",
       "      <th>order_id</th>\n",
       "      <th>total_items_in_order</th>\n",
       "    </tr>\n",
       "  </thead>\n",
       "  <tbody>\n",
       "    <tr>\n",
       "      <th>0</th>\n",
       "      <td>4</td>\n",
       "      <td>13</td>\n",
       "    </tr>\n",
       "    <tr>\n",
       "      <th>1</th>\n",
       "      <td>9</td>\n",
       "      <td>15</td>\n",
       "    </tr>\n",
       "    <tr>\n",
       "      <th>2</th>\n",
       "      <td>11</td>\n",
       "      <td>5</td>\n",
       "    </tr>\n",
       "    <tr>\n",
       "      <th>3</th>\n",
       "      <td>19</td>\n",
       "      <td>3</td>\n",
       "    </tr>\n",
       "    <tr>\n",
       "      <th>4</th>\n",
       "      <td>20</td>\n",
       "      <td>8</td>\n",
       "    </tr>\n",
       "    <tr>\n",
       "      <th>5</th>\n",
       "      <td>31</td>\n",
       "      <td>10</td>\n",
       "    </tr>\n",
       "    <tr>\n",
       "      <th>6</th>\n",
       "      <td>48</td>\n",
       "      <td>8</td>\n",
       "    </tr>\n",
       "    <tr>\n",
       "      <th>7</th>\n",
       "      <td>56</td>\n",
       "      <td>10</td>\n",
       "    </tr>\n",
       "    <tr>\n",
       "      <th>8</th>\n",
       "      <td>61</td>\n",
       "      <td>12</td>\n",
       "    </tr>\n",
       "    <tr>\n",
       "      <th>9</th>\n",
       "      <td>68</td>\n",
       "      <td>9</td>\n",
       "    </tr>\n",
       "  </tbody>\n",
       "</table>\n",
       "</div>"
      ],
      "text/plain": [
       "   order_id  total_items_in_order\n",
       "0         4                    13\n",
       "1         9                    15\n",
       "2        11                     5\n",
       "3        19                     3\n",
       "4        20                     8\n",
       "5        31                    10\n",
       "6        48                     8\n",
       "7        56                    10\n",
       "8        61                    12\n",
       "9        68                     9"
      ]
     },
     "execution_count": 72,
     "metadata": {},
     "output_type": "execute_result"
    }
   ],
   "source": [
    "total_items_per_order.head(10)"
   ]
  },
  {
   "cell_type": "code",
   "execution_count": 73,
   "id": "a487e256",
   "metadata": {},
   "outputs": [
    {
     "data": {
      "text/html": [
       "<div>\n",
       "<style scoped>\n",
       "    .dataframe tbody tr th:only-of-type {\n",
       "        vertical-align: middle;\n",
       "    }\n",
       "\n",
       "    .dataframe tbody tr th {\n",
       "        vertical-align: top;\n",
       "    }\n",
       "\n",
       "    .dataframe thead th {\n",
       "        text-align: right;\n",
       "    }\n",
       "</style>\n",
       "<table border=\"1\" class=\"dataframe\">\n",
       "  <thead>\n",
       "    <tr style=\"text-align: right;\">\n",
       "      <th></th>\n",
       "      <th>order_id</th>\n",
       "      <th>total_items_in_order</th>\n",
       "    </tr>\n",
       "  </thead>\n",
       "  <tbody>\n",
       "    <tr>\n",
       "      <th>450036</th>\n",
       "      <td>3420999</td>\n",
       "      <td>3</td>\n",
       "    </tr>\n",
       "    <tr>\n",
       "      <th>450037</th>\n",
       "      <td>3421001</td>\n",
       "      <td>15</td>\n",
       "    </tr>\n",
       "    <tr>\n",
       "      <th>450038</th>\n",
       "      <td>3421011</td>\n",
       "      <td>4</td>\n",
       "    </tr>\n",
       "    <tr>\n",
       "      <th>450039</th>\n",
       "      <td>3421013</td>\n",
       "      <td>20</td>\n",
       "    </tr>\n",
       "    <tr>\n",
       "      <th>450040</th>\n",
       "      <td>3421018</td>\n",
       "      <td>18</td>\n",
       "    </tr>\n",
       "    <tr>\n",
       "      <th>450041</th>\n",
       "      <td>3421034</td>\n",
       "      <td>17</td>\n",
       "    </tr>\n",
       "    <tr>\n",
       "      <th>450042</th>\n",
       "      <td>3421053</td>\n",
       "      <td>9</td>\n",
       "    </tr>\n",
       "    <tr>\n",
       "      <th>450043</th>\n",
       "      <td>3421071</td>\n",
       "      <td>5</td>\n",
       "    </tr>\n",
       "    <tr>\n",
       "      <th>450044</th>\n",
       "      <td>3421077</td>\n",
       "      <td>4</td>\n",
       "    </tr>\n",
       "    <tr>\n",
       "      <th>450045</th>\n",
       "      <td>3421079</td>\n",
       "      <td>1</td>\n",
       "    </tr>\n",
       "  </tbody>\n",
       "</table>\n",
       "</div>"
      ],
      "text/plain": [
       "        order_id  total_items_in_order\n",
       "450036   3420999                     3\n",
       "450037   3421001                    15\n",
       "450038   3421011                     4\n",
       "450039   3421013                    20\n",
       "450040   3421018                    18\n",
       "450041   3421034                    17\n",
       "450042   3421053                     9\n",
       "450043   3421071                     5\n",
       "450044   3421077                     4\n",
       "450045   3421079                     1"
      ]
     },
     "execution_count": 73,
     "metadata": {},
     "output_type": "execute_result"
    }
   ],
   "source": [
    "total_items_per_order.tail(10)"
   ]
  },
  {
   "cell_type": "markdown",
   "id": "5035b486",
   "metadata": {},
   "source": [
    "### Explanation of Data Preparation Steps\n",
    "\n",
    "To prepare the data for analysis, I performed the following steps:\n",
    "\n",
    "1. **Data Integration:** I combined the `order_products` and `instacart_orders` datasets to merge relevant information about each order into a single dataset. This integration provides a more comprehensive view of the data.\n",
    "\n",
    "2. **Data Cleaning:** I dropped unnecessary columns such as `product_id`, `reordered`, `user_id`, `order_number`, `order_dow`, `order_hour_of_day`, and `days_since_prior_order`. This step simplified the dataset and removed redundant or irrelevant information.\n",
    "\n",
    "3. **Data Aggregation:** I grouped the merged dataset by `order_id` and calculated the total number of items in each order. This aggregation is essential for deriving meaningful insights from the data, such as understanding typical order sizes or analyzing shopping patterns.\n"
   ]
  },
  {
   "cell_type": "markdown",
   "id": "e3f24622",
   "metadata": {},
   "source": [
    "[Back to Contents](#back)"
   ]
  },
  {
   "cell_type": "markdown",
   "id": "4d851249",
   "metadata": {},
   "source": [
    "### Calculating the Average Number of Items per Order"
   ]
  },
  {
   "cell_type": "code",
   "execution_count": 74,
   "id": "2f53725b",
   "metadata": {},
   "outputs": [
    {
     "name": "stdout",
     "output_type": "stream",
     "text": [
      "Average Number of Items per Order: 10.10\n"
     ]
    }
   ],
   "source": [
    "# Calculate the total number of items in each order\n",
    "total_items_per_order = merged_df.groupby('order_id').size().reset_index(name='total_items')\n",
    "\n",
    "# Calculate the average number of items per order\n",
    "average_items_per_order = total_items_per_order['total_items'].mean()\n",
    "print(f\"Average Number of Items per Order: {average_items_per_order:.2f}\")\n"
   ]
  },
  {
   "cell_type": "markdown",
   "id": "e487b959",
   "metadata": {},
   "source": [
    "### Number of Items per Order - Box Plot"
   ]
  },
  {
   "cell_type": "code",
   "execution_count": 75,
   "id": "209699a3",
   "metadata": {
    "scrolled": true
   },
   "outputs": [
    {
     "data": {
      "text/plain": [
       "count    450046.000000\n",
       "mean         10.098983\n",
       "std           7.540206\n",
       "min           1.000000\n",
       "25%           5.000000\n",
       "50%           8.000000\n",
       "75%          14.000000\n",
       "max         127.000000\n",
       "Name: total_items, dtype: float64"
      ]
     },
     "execution_count": 75,
     "metadata": {},
     "output_type": "execute_result"
    }
   ],
   "source": [
    "total_items_per_order['total_items'].describe()"
   ]
  },
  {
   "cell_type": "markdown",
   "id": "1e4f99d6",
   "metadata": {},
   "source": [
    "### Distribution of Number of Items per Order"
   ]
  },
  {
   "cell_type": "code",
   "execution_count": 76,
   "id": "2815d99c",
   "metadata": {
    "scrolled": true
   },
   "outputs": [
    {
     "name": "stdout",
     "output_type": "stream",
     "text": [
      "Bin edge: 1.00, Count: 140162\n",
      "Bin edge: 5.20, Count: 116801\n",
      "Bin edge: 9.40, Count: 78690\n",
      "Bin edge: 13.60, Count: 48635\n",
      "Bin edge: 17.80, Count: 28847\n",
      "Bin edge: 22.00, Count: 19550\n",
      "Bin edge: 26.20, Count: 8112\n",
      "Bin edge: 30.40, Count: 4347\n",
      "Bin edge: 34.60, Count: 2256\n",
      "Bin edge: 38.80, Count: 1228\n",
      "Bin edge: 43.00, Count: 752\n",
      "Bin edge: 47.20, Count: 301\n",
      "Bin edge: 51.40, Count: 155\n",
      "Bin edge: 55.60, Count: 83\n",
      "Bin edge: 59.80, Count: 52\n",
      "Bin edge: 64.00, Count: 27\n",
      "Bin edge: 68.20, Count: 16\n",
      "Bin edge: 72.40, Count: 11\n",
      "Bin edge: 76.60, Count: 5\n",
      "Bin edge: 80.80, Count: 0\n",
      "Bin edge: 85.00, Count: 5\n",
      "Bin edge: 89.20, Count: 4\n",
      "Bin edge: 93.40, Count: 2\n",
      "Bin edge: 97.60, Count: 1\n",
      "Bin edge: 101.80, Count: 1\n",
      "Bin edge: 106.00, Count: 1\n",
      "Bin edge: 110.20, Count: 0\n",
      "Bin edge: 114.40, Count: 1\n",
      "Bin edge: 118.60, Count: 0\n",
      "Bin edge: 122.80, Count: 1\n"
     ]
    }
   ],
   "source": [
    "import numpy as np\n",
    "\n",
    "# Create a histogram\n",
    "counts, bin_edges = np.histogram(total_items_per_order['total_items'], bins=30)\n",
    "\n",
    "# Print the counts and bin edges\n",
    "for count, bin_edge in zip(counts, bin_edges):\n",
    "    print(f\"Bin edge: {bin_edge:.2f}, Count: {count}\")\n"
   ]
  },
  {
   "cell_type": "markdown",
   "id": "ed68841e",
   "metadata": {},
   "source": [
    "[Back to Contents](#back)"
   ]
  },
  {
   "cell_type": "markdown",
   "id": "b4982c0c",
   "metadata": {},
   "source": [
    "### Distribution of Number of Items per Order - Histogram and Density Plot <a id='da_one_order_hist_den'></a>"
   ]
  },
  {
   "cell_type": "code",
   "execution_count": 77,
   "id": "8ea1112b",
   "metadata": {},
   "outputs": [
    {
     "data": {
      "image/png": "[encoded data removed]",
      "text/plain": [
       "<Figure size 900x800 with 3 Axes>"
      ]
     },
     "metadata": {},
     "output_type": "display_data"
    }
   ],
   "source": [
    "import matplotlib.ticker as mtick\n",
    "\n",
    "# Create a figure with subplots\n",
    "fig, ax = plt.subplots(2, 1, figsize=(9, 8), gridspec_kw={'height_ratios': [4, 1]})\n",
    "\n",
    "# Define colors\n",
    "hist_color = '#ADD8E6'  # Light blue\n",
    "box_color = '#ADD8E6'   # Light blue\n",
    "density_color = 'blue'\n",
    "\n",
    "# Plot histogram on the first subplot\n",
    "sns.histplot(total_items_per_order['total_items'], bins=30, stat='density', alpha=0.6, color=hist_color, ax=ax[0], label='Histogram')\n",
    "# Plot density plot on the first subplot\n",
    "sns.kdeplot(total_items_per_order['total_items'], color=density_color, ax=ax[0], label='Density')\n",
    "ax[0].set_title('Histogram and Density Plot of Number of Items per Order')\n",
    "ax[0].set_xlabel('Number of Items per Order')\n",
    "ax[0].set_ylabel('Density of Items per Order (%)')  # Updated label to indicate percentage\n",
    "ax[0].legend()\n",
    "\n",
    "# Convert y-axis to percentage\n",
    "ax[0].yaxis.set_major_formatter(mtick.PercentFormatter(1.0))\n",
    "\n",
    "# Plot boxplot on the second subplot\n",
    "sns.boxplot(x=total_items_per_order['total_items'], ax=ax[1], color=box_color)\n",
    "ax[1].set_xlabel('Number of Items per Order')\n",
    "ax[1].set_title('Box Plot of Number of Items per Order')\n",
    "\n",
    "# Create a twin Axes for the secondary y-axis\n",
    "ax2 = ax[0].twinx()\n",
    "# Set limits and ticks for the secondary y-axis to match the desired frequency values\n",
    "ax2.set_ylim(ax[0].get_ylim())\n",
    "# Define the new ticks and their labels\n",
    "new_ticks = [0, 20000, 40000, 60000, 80000, 100000, 120000, 140000]\n",
    "ax2.set_yticks(new_ticks)\n",
    "ax2.set_yticklabels([f'{tick:,}' for tick in new_ticks])\n",
    "ax2.set_ylabel('Number of Orders')\n",
    "\n",
    "# Adjust layout to have a small gap between subplots\n",
    "plt.subplots_adjust(hspace=0.4)\n",
    "\n",
    "# Show plot\n",
    "plt.show()\n"
   ]
  },
  {
   "cell_type": "markdown",
   "id": "a4f19b15",
   "metadata": {},
   "source": [
    "## Conclusion: Number of Items per Order <a id='da_one_order_conclusion'></a>\n",
    "\n",
    "1. **Average Number of Items per Order:** Approximately 10.10 items.\n",
    "\n",
    "2. **Distribution of Items per Order:**\n",
    "   - The dataset has a mean of 10.10 items per order, with a minimum of 1 item and a maximum of 127 items.\n",
    "   - The histogram and density plot show that most orders have between 1 and 20 items, with a peak around 5 items per order.\n",
    "\n",
    "3. **Variation in Order Sizes:**\n",
    "   - The box plot indicates that the majority of orders fall within the range of approximately 5 to 15 items, with some outliers containing more than 15 items.\n",
    "\n",
    "4. **Interpretation:**\n",
    "   - The analysis reveals that the majority of orders consist of a moderate number of items, with a few orders containing a significantly higher number of items.\n"
   ]
  },
  {
   "cell_type": "markdown",
   "id": "bbc15c85",
   "metadata": {},
   "source": [
    "[Back to Contents](#back)"
   ]
  },
  {
   "cell_type": "markdown",
   "id": "8526b269",
   "metadata": {},
   "source": [
    "## 2.5.2 Top 20 Most Frequently Reordered Items <a id='da_most_reorder'></a>\n",
    "### Data Preparation"
   ]
  },
  {
   "cell_type": "markdown",
   "id": "ae9b0147",
   "metadata": {},
   "source": [
    "In this step, we will merge the `order_products` and `products` datasets to prepare the data for analysis. We will also check for any missing values in the merged dataset.\n"
   ]
  },
  {
   "cell_type": "code",
   "execution_count": 78,
   "id": "43cf2526",
   "metadata": {},
   "outputs": [
    {
     "name": "stdout",
     "output_type": "stream",
     "text": [
      "   order_id  product_id  add_to_cart_order  reordered  \\\n",
      "0   2141543       11440               17.0          0   \n",
      "1    147172       11440                7.0          1   \n",
      "2   3341719       11440                4.0          1   \n",
      "3   1938779       11440                8.0          1   \n",
      "4   1728338       11440               23.0          0   \n",
      "\n",
      "                     product_name  aisle_id  department_id  \n",
      "0  Chicken Breast Tenders Breaded       129              1  \n",
      "1  Chicken Breast Tenders Breaded       129              1  \n",
      "2  Chicken Breast Tenders Breaded       129              1  \n",
      "3  Chicken Breast Tenders Breaded       129              1  \n",
      "4  Chicken Breast Tenders Breaded       129              1  \n",
      "order_id             0\n",
      "product_id           0\n",
      "add_to_cart_order    0\n",
      "reordered            0\n",
      "product_name         0\n",
      "aisle_id             0\n",
      "department_id        0\n",
      "dtype: int64\n"
     ]
    }
   ],
   "source": [
    "# Merge order_products and products datasets on 'product_id'\n",
    "merged_df = pd.merge(df_orpro, df_pro, on='product_id')\n",
    "\n",
    "# Display the first few rows of the merged dataset\n",
    "print(merged_df.head())\n",
    "\n",
    "# Check for missing values in the merged dataset\n",
    "print(merged_df.isnull().sum())\n"
   ]
  },
  {
   "cell_type": "markdown",
   "id": "49b5c35f",
   "metadata": {},
   "source": [
    "[Back to Contents](#back)"
   ]
  },
  {
   "cell_type": "markdown",
   "id": "8eb75d62",
   "metadata": {},
   "source": [
    "### Top 20 Most Reordered Items"
   ]
  },
  {
   "cell_type": "code",
   "execution_count": 79,
   "id": "6f3b1b22",
   "metadata": {},
   "outputs": [
    {
     "data": {
      "text/html": [
       "<div>\n",
       "<style scoped>\n",
       "    .dataframe tbody tr th:only-of-type {\n",
       "        vertical-align: middle;\n",
       "    }\n",
       "\n",
       "    .dataframe tbody tr th {\n",
       "        vertical-align: top;\n",
       "    }\n",
       "\n",
       "    .dataframe thead th {\n",
       "        text-align: right;\n",
       "    }\n",
       "</style>\n",
       "<table border=\"1\" class=\"dataframe\">\n",
       "  <thead>\n",
       "    <tr style=\"text-align: right;\">\n",
       "      <th></th>\n",
       "      <th>product_id</th>\n",
       "      <th>product_name</th>\n",
       "      <th>reordered</th>\n",
       "    </tr>\n",
       "  </thead>\n",
       "  <tbody>\n",
       "    <tr>\n",
       "      <th>0</th>\n",
       "      <td>24852</td>\n",
       "      <td>Banana</td>\n",
       "      <td>55763</td>\n",
       "    </tr>\n",
       "    <tr>\n",
       "      <th>1</th>\n",
       "      <td>13176</td>\n",
       "      <td>Bag of Organic Bananas</td>\n",
       "      <td>44450</td>\n",
       "    </tr>\n",
       "    <tr>\n",
       "      <th>2</th>\n",
       "      <td>21137</td>\n",
       "      <td>Organic Strawberries</td>\n",
       "      <td>28639</td>\n",
       "    </tr>\n",
       "    <tr>\n",
       "      <th>3</th>\n",
       "      <td>21903</td>\n",
       "      <td>Organic Baby Spinach</td>\n",
       "      <td>26233</td>\n",
       "    </tr>\n",
       "    <tr>\n",
       "      <th>4</th>\n",
       "      <td>47209</td>\n",
       "      <td>Organic Hass Avocado</td>\n",
       "      <td>23629</td>\n",
       "    </tr>\n",
       "    <tr>\n",
       "      <th>5</th>\n",
       "      <td>47766</td>\n",
       "      <td>Organic Avocado</td>\n",
       "      <td>18743</td>\n",
       "    </tr>\n",
       "    <tr>\n",
       "      <th>6</th>\n",
       "      <td>27845</td>\n",
       "      <td>Organic Whole Milk</td>\n",
       "      <td>16251</td>\n",
       "    </tr>\n",
       "    <tr>\n",
       "      <th>7</th>\n",
       "      <td>47626</td>\n",
       "      <td>Large Lemon</td>\n",
       "      <td>15044</td>\n",
       "    </tr>\n",
       "    <tr>\n",
       "      <th>8</th>\n",
       "      <td>27966</td>\n",
       "      <td>Organic Raspberries</td>\n",
       "      <td>14748</td>\n",
       "    </tr>\n",
       "    <tr>\n",
       "      <th>9</th>\n",
       "      <td>16797</td>\n",
       "      <td>Strawberries</td>\n",
       "      <td>13945</td>\n",
       "    </tr>\n",
       "    <tr>\n",
       "      <th>10</th>\n",
       "      <td>26209</td>\n",
       "      <td>Limes</td>\n",
       "      <td>13327</td>\n",
       "    </tr>\n",
       "    <tr>\n",
       "      <th>11</th>\n",
       "      <td>22935</td>\n",
       "      <td>Organic Yellow Onion</td>\n",
       "      <td>11145</td>\n",
       "    </tr>\n",
       "    <tr>\n",
       "      <th>12</th>\n",
       "      <td>24964</td>\n",
       "      <td>Organic Garlic</td>\n",
       "      <td>10411</td>\n",
       "    </tr>\n",
       "    <tr>\n",
       "      <th>13</th>\n",
       "      <td>45007</td>\n",
       "      <td>Organic Zucchini</td>\n",
       "      <td>10076</td>\n",
       "    </tr>\n",
       "    <tr>\n",
       "      <th>14</th>\n",
       "      <td>49683</td>\n",
       "      <td>Cucumber Kirby</td>\n",
       "      <td>9538</td>\n",
       "    </tr>\n",
       "    <tr>\n",
       "      <th>15</th>\n",
       "      <td>28204</td>\n",
       "      <td>Organic Fuji Apple</td>\n",
       "      <td>8989</td>\n",
       "    </tr>\n",
       "    <tr>\n",
       "      <th>16</th>\n",
       "      <td>8277</td>\n",
       "      <td>Apple Honeycrisp Organic</td>\n",
       "      <td>8836</td>\n",
       "    </tr>\n",
       "    <tr>\n",
       "      <th>17</th>\n",
       "      <td>39275</td>\n",
       "      <td>Organic Blueberries</td>\n",
       "      <td>8799</td>\n",
       "    </tr>\n",
       "    <tr>\n",
       "      <th>18</th>\n",
       "      <td>5876</td>\n",
       "      <td>Organic Lemon</td>\n",
       "      <td>8412</td>\n",
       "    </tr>\n",
       "    <tr>\n",
       "      <th>19</th>\n",
       "      <td>49235</td>\n",
       "      <td>Organic Half &amp; Half</td>\n",
       "      <td>8389</td>\n",
       "    </tr>\n",
       "  </tbody>\n",
       "</table>\n",
       "</div>"
      ],
      "text/plain": [
       "    product_id              product_name  reordered\n",
       "0        24852                    Banana      55763\n",
       "1        13176    Bag of Organic Bananas      44450\n",
       "2        21137      Organic Strawberries      28639\n",
       "3        21903      Organic Baby Spinach      26233\n",
       "4        47209      Organic Hass Avocado      23629\n",
       "5        47766           Organic Avocado      18743\n",
       "6        27845        Organic Whole Milk      16251\n",
       "7        47626               Large Lemon      15044\n",
       "8        27966       Organic Raspberries      14748\n",
       "9        16797              Strawberries      13945\n",
       "10       26209                     Limes      13327\n",
       "11       22935      Organic Yellow Onion      11145\n",
       "12       24964            Organic Garlic      10411\n",
       "13       45007          Organic Zucchini      10076\n",
       "14       49683            Cucumber Kirby       9538\n",
       "15       28204        Organic Fuji Apple       8989\n",
       "16        8277  Apple Honeycrisp Organic       8836\n",
       "17       39275       Organic Blueberries       8799\n",
       "18        5876             Organic Lemon       8412\n",
       "19       49235       Organic Half & Half       8389"
      ]
     },
     "execution_count": 79,
     "metadata": {},
     "output_type": "execute_result"
    }
   ],
   "source": [
    "# Group the merged dataset by product_id and sum the 'reordered' column to get the total number of reorders for each product\n",
    "product_reorders = df_orpro.groupby('product_id')['reordered'].sum().reset_index()\n",
    "product_reorders = product_reorders.sort_values(by='reordered', ascending=False)\n",
    "\n",
    "# Display the top 20 products with the most reorders\n",
    "top_reorder_products = product_reorders.merge(df_pro, on='product_id').head(20)\n",
    "top_reorder_products[['product_id', 'product_name', 'reordered']]\n"
   ]
  },
  {
   "cell_type": "markdown",
   "id": "48f20bd3",
   "metadata": {},
   "source": [
    "[Back to Contents](#back)"
   ]
  },
  {
   "cell_type": "markdown",
   "id": "03ef3df1",
   "metadata": {},
   "source": [
    "### Top 20 Most Reordered Items - Polar Bar Plot <a id='da_most_reorder_polar'></a>"
   ]
  },
  {
   "cell_type": "code",
   "execution_count": 80,
   "id": "466aa3be",
   "metadata": {},
   "outputs": [
    {
     "data": {
      "image/png": "[encoded data removed]",
      "text/plain": [
       "<Figure size 1000x1000 with 2 Axes>"
      ]
     },
     "metadata": {},
     "output_type": "display_data"
    }
   ],
   "source": [
    "import numpy as np\n",
    "import matplotlib.pyplot as plt\n",
    "\n",
    "def wrap_label(label, wrap_length=10):\n",
    "    \"\"\"\n",
    "    Wrap a label string into multiple lines with a specified length.\n",
    "    \n",
    "    Args:\n",
    "    - label (str): The label to wrap.\n",
    "    - wrap_length (int): The maximum length of each line.\n",
    "    \n",
    "    Returns:\n",
    "    - str: The wrapped label string.\n",
    "    \"\"\"\n",
    "    words = label.split()\n",
    "    lines = []\n",
    "    current_line = \"\"\n",
    "    for word in words:\n",
    "        if len(current_line) + len(word) <= wrap_length:\n",
    "            current_line += \" \" + word\n",
    "        else:\n",
    "            lines.append(current_line.strip())\n",
    "            current_line = word\n",
    "    if current_line:\n",
    "        lines.append(current_line.strip())\n",
    "    return \"\\n\".join(lines)\n",
    "\n",
    "# Create a figure and axis\n",
    "fig, ax = plt.subplots(figsize=(10, 10), subplot_kw={'projection': 'polar'})\n",
    "\n",
    "# Define the theta values (angles) for each bar\n",
    "theta = np.linspace(0, 2*np.pi, len(top_reorder_products), endpoint=False)\n",
    "\n",
    "# Plot the bars\n",
    "bars = ax.bar(theta, top_reorder_products['reordered'], width=0.4, color=plt.cm.viridis(top_reorder_products['reordered'] / max(top_reorder_products['reordered'])))\n",
    "\n",
    "# Set the labels for each bar\n",
    "wrapped_labels = [wrap_label(label) for label in top_reorder_products['product_name']]\n",
    "ax.set_xticks(theta)\n",
    "ax.set_xticklabels(wrapped_labels, fontsize=10, va='bottom')\n",
    "ax.set_yticklabels([])  # Hide radial ticks\n",
    "ax.set_title('Top 20 Most Reordered Products', pad=20, fontsize=16)\n",
    "\n",
    "# Customize gridlines\n",
    "ax.grid(color='grey', linestyle='-', linewidth=2, alpha=0.1)  # Lighter gridlines\n",
    "\n",
    "# Add a color bar to show the range of reorder frequencies\n",
    "cbar = plt.colorbar(plt.cm.ScalarMappable(cmap='viridis', norm=plt.Normalize(vmin=0, vmax=max(top_reorder_products['reordered']))), ax=ax, orientation='horizontal', pad=0.1)\n",
    "cbar.set_label('Number of Reorders', fontsize=12)\n",
    "\n",
    "# Hide the outer circle\n",
    "ax.spines['polar'].set_visible(False)\n",
    "\n",
    "# Display the plot\n",
    "plt.show()\n"
   ]
  },
  {
   "cell_type": "markdown",
   "id": "4bfed6f0",
   "metadata": {},
   "source": [
    "## Conclusion - Top 20 Most Reordered Items <a id='da_most_reorder_conclusion'></a>\n",
    "Based on the analysis of reorder frequency, the top 5 items that are reordered most frequently are:\n",
    "\n",
    "1. Banana\n",
    "2. Bag of Organic Bananas\n",
    "3. Organic Strawberries\n",
    "4. Organic Baby Spinach\n",
    "5. Organic Hass Avocado\n",
    "\n",
    "It is clear that there is a strong demand for organic fruits and vegetables among customers, as indicated by the high reorder frequency of these items. This insight is crucial for inventory management, as it suggests a need to ensure an ample supply of organic produce to meet customer demand.\n",
    "\n",
    "Furthermore, this information can be used to inform marketing strategies, such as promoting these items more prominently or offering discounts to further drive sales. Additionally, understanding customer preferences for organic and fresh produce can guide future product offerings and assortments to align with consumer demand, ultimately leading to increased customer satisfaction and loyalty.\n"
   ]
  },
  {
   "cell_type": "markdown",
   "id": "b7ab7dfc",
   "metadata": {},
   "source": [
    "[Back to Contents](#back)"
   ]
  },
  {
   "cell_type": "code",
   "execution_count": null,
   "id": "b212f99a",
   "metadata": {},
   "outputs": [],
   "source": []
  }
 ],
 "metadata": {
  "kernelspec": {
   "display_name": "Python 3 (ipykernel)",
   "language": "python",
   "name": "python3"
  },
  "language_info": {
   "codemirror_mode": {
    "name": "ipython",
    "version": 3
   },
   "file_extension": ".py",
   "mimetype": "text/x-python",
   "name": "python",
   "nbconvert_exporter": "python",
   "pygments_lexer": "ipython3",
   "version": "3.11.7"
  }
 },
 "nbformat": 4,
 "nbformat_minor": 5
}
